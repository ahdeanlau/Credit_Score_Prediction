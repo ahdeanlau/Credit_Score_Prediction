{
 "cells": [
  {
   "attachments": {},
   "cell_type": "markdown",
   "metadata": {},
   "source": [
    "# Import Libraries"
   ]
  },
  {
   "cell_type": "code",
   "execution_count": 3,
   "metadata": {},
   "outputs": [],
   "source": [
    "import data\n",
    "import pandas as pd\n",
    "import numpy as np\n",
    "import matplotlib.pyplot as plt\n",
    "import seaborn as sns\n",
    "import os\n",
    "\n",
    "# Fuzzy Logic\n",
    "import skfuzzy as fuzz\n",
    "from skfuzzy import control as ctrl\n",
    "\n",
    "# ML\n",
    "from sklearn import tree\n",
    "from sklearn.tree import DecisionTreeClassifier\n",
    "from sklearn.svm import SVC\n",
    "from sklearn.ensemble import RandomForestClassifier\n",
    "from sklearn.neural_network import MLPClassifier\n",
    "\n",
    "from sklearn.tree import DecisionTreeRegressor\n",
    "from sklearn.svm import SVR\n",
    "from sklearn.neural_network import MLPRegressor\n",
    "from sklearn.ensemble import GradientBoostingRegressor\n",
    "from sklearn.ensemble import RandomForestRegressor\n",
    "\n",
    "from tensorflow.keras.models import Sequential\n",
    "from tensorflow.keras.layers import Dense\n",
    "from tensorflow.keras.optimizers import Adam\n",
    "\n",
    "from sklearn.metrics import roc_auc_score, roc_curve\n",
    "from sklearn.model_selection import train_test_split\n",
    "\n",
    "from sklearn.metrics import mean_squared_error, r2_score\n",
    "\n"
   ]
  },
  {
   "attachments": {},
   "cell_type": "markdown",
   "metadata": {},
   "source": [
    "---\n",
    "# Import Datasets\n",
    "\n",
    "*payment.csv*     : **paymentdf**  \n",
    "*loan.csv*        : **loandf**   \n",
    "*clarity_underwriting_variables.csv* : **claritydf**  "
   ]
  },
  {
   "cell_type": "code",
   "execution_count": 4,
   "metadata": {},
   "outputs": [],
   "source": [
    "subdirectory = \"data\"\n",
    "payment_path = os.path.join(subdirectory, \"payment.csv\")\n",
    "loan_path = os.path.join(subdirectory, \"loan.csv\")\n",
    "clarity_path = os.path.join(subdirectory, \"clarity_underwriting_variables.csv\")"
   ]
  },
  {
   "cell_type": "code",
   "execution_count": 5,
   "metadata": {},
   "outputs": [
    {
     "name": "stderr",
     "output_type": "stream",
     "text": [
      "/var/folders/4g/jfvz9fnd7blddks5n_g5qm3r0000gn/T/ipykernel_40223/4177701096.py:3: DtypeWarning: Columns (9,11,12,13,14,15,16,17,18,19,20,21,22,23,25,26,27,28,29,31,32,33,36,37) have mixed types. Specify dtype option on import or set low_memory=False.\n",
      "  claritydf = pd.read_csv(clarity_path)\n"
     ]
    }
   ],
   "source": [
    "paymentdf = pd.read_csv(payment_path)\n",
    "loandf = pd.read_csv(loan_path)\n",
    "claritydf = pd.read_csv(clarity_path)\n"
   ]
  },
  {
   "attachments": {},
   "cell_type": "markdown",
   "metadata": {},
   "source": [
    "---\n",
    "# 1. Exploratory Data Analysis"
   ]
  },
  {
   "cell_type": "code",
   "execution_count": 6,
   "metadata": {},
   "outputs": [
    {
     "name": "stdout",
     "output_type": "stream",
     "text": [
      "paymentdf columns:\n",
      " Index(['loanId', 'installmentIndex', 'isCollection', 'paymentDate',\n",
      "       'principal', 'fees', 'paymentAmount', 'paymentStatus',\n",
      "       'paymentReturnCode'],\n",
      "      dtype='object')\n",
      "\n",
      "loandf columns:\n",
      " Index(['loanId', 'anon_ssn', 'payFrequency', 'apr', 'applicationDate',\n",
      "       'originated', 'originatedDate', 'nPaidOff', 'approved', 'isFunded',\n",
      "       'loanStatus', 'loanAmount', 'originallyScheduledPaymentAmount', 'state',\n",
      "       'leadType', 'leadCost', 'fpStatus', 'clarityFraudId', 'hasCF'],\n",
      "      dtype='object')\n",
      "\n",
      "claritydf columns:\n",
      " Index(['.underwritingdataclarity.clearfraud.clearfraudinquiry.thirtydaysago',\n",
      "       '.underwritingdataclarity.clearfraud.clearfraudinquiry.twentyfourhoursago',\n",
      "       '.underwritingdataclarity.clearfraud.clearfraudinquiry.oneminuteago',\n",
      "       '.underwritingdataclarity.clearfraud.clearfraudinquiry.onehourago',\n",
      "       '.underwritingdataclarity.clearfraud.clearfraudinquiry.ninetydaysago',\n",
      "       '.underwritingdataclarity.clearfraud.clearfraudinquiry.sevendaysago',\n",
      "       '.underwritingdataclarity.clearfraud.clearfraudinquiry.tenminutesago',\n",
      "       '.underwritingdataclarity.clearfraud.clearfraudinquiry.fifteendaysago',\n",
      "       '.underwritingdataclarity.clearfraud.clearfraudinquiry.threesixtyfivedaysago',\n",
      "       '.underwritingdataclarity.clearfraud.clearfraudindicator.inquiryonfilecurrentaddressconflict',\n",
      "       '.underwritingdataclarity.clearfraud.clearfraudindicator.totalnumberoffraudindicators',\n",
      "       '.underwritingdataclarity.clearfraud.clearfraudindicator.telephonenumberinconsistentwithaddress',\n",
      "       '.underwritingdataclarity.clearfraud.clearfraudindicator.inquiryageyoungerthanssnissuedate',\n",
      "       '.underwritingdataclarity.clearfraud.clearfraudindicator.onfileaddresscautious',\n",
      "       '.underwritingdataclarity.clearfraud.clearfraudindicator.inquiryaddressnonresidential',\n",
      "       '.underwritingdataclarity.clearfraud.clearfraudindicator.onfileaddresshighrisk',\n",
      "       '.underwritingdataclarity.clearfraud.clearfraudindicator.ssnreportedmorefrequentlyforanother',\n",
      "       '.underwritingdataclarity.clearfraud.clearfraudindicator.currentaddressreportedbytradeopenlt90days',\n",
      "       '.underwritingdataclarity.clearfraud.clearfraudindicator.inputssninvalid',\n",
      "       '.underwritingdataclarity.clearfraud.clearfraudindicator.inputssnissuedatecannotbeverified',\n",
      "       '.underwritingdataclarity.clearfraud.clearfraudindicator.inquiryaddresscautious',\n",
      "       '.underwritingdataclarity.clearfraud.clearfraudindicator.morethan3inquiriesinthelast30days',\n",
      "       '.underwritingdataclarity.clearfraud.clearfraudindicator.onfileaddressnonresidential',\n",
      "       '.underwritingdataclarity.clearfraud.clearfraudindicator.creditestablishedpriortossnissuedate',\n",
      "       '.underwritingdataclarity.clearfraud.clearfraudindicator.driverlicenseformatinvalid',\n",
      "       '.underwritingdataclarity.clearfraud.clearfraudindicator.inputssnrecordedasdeceased',\n",
      "       '.underwritingdataclarity.clearfraud.clearfraudindicator.inquiryaddresshighrisk',\n",
      "       '.underwritingdataclarity.clearfraud.clearfraudindicator.inquirycurrentaddressnotonfile',\n",
      "       '.underwritingdataclarity.clearfraud.clearfraudindicator.bestonfilessnissuedatecannotbeverified',\n",
      "       '.underwritingdataclarity.clearfraud.clearfraudindicator.highprobabilityssnbelongstoanother',\n",
      "       '.underwritingdataclarity.clearfraud.clearfraudindicator.maxnumberofssnswithanybankaccount',\n",
      "       '.underwritingdataclarity.clearfraud.clearfraudindicator.bestonfilessnrecordedasdeceased',\n",
      "       '.underwritingdataclarity.clearfraud.clearfraudindicator.currentaddressreportedbynewtradeonly',\n",
      "       '.underwritingdataclarity.clearfraud.clearfraudindicator.creditestablishedbeforeage18',\n",
      "       '.underwritingdataclarity.clearfraud.clearfraudindicator.telephonenumberinconsistentwithstate',\n",
      "       '.underwritingdataclarity.clearfraud.clearfraudindicator.driverlicenseinconsistentwithonfile',\n",
      "       '.underwritingdataclarity.clearfraud.clearfraudindicator.workphonepreviouslylistedascellphone',\n",
      "       '.underwritingdataclarity.clearfraud.clearfraudindicator.workphonepreviouslylistedashomephone',\n",
      "       '.underwritingdataclarity.clearfraud.clearfraudidentityverification.ssnnamematch',\n",
      "       '.underwritingdataclarity.clearfraud.clearfraudidentityverification.nameaddressmatch',\n",
      "       '.underwritingdataclarity.clearfraud.clearfraudidentityverification.phonematchtype',\n",
      "       '.underwritingdataclarity.clearfraud.clearfraudidentityverification.ssnnamereasoncodedescription',\n",
      "       '.underwritingdataclarity.clearfraud.clearfraudidentityverification.phonematchresult',\n",
      "       '.underwritingdataclarity.clearfraud.clearfraudidentityverification.nameaddressreasoncodedescription',\n",
      "       '.underwritingdataclarity.clearfraud.clearfraudidentityverification.phonematchtypedescription',\n",
      "       '.underwritingdataclarity.clearfraud.clearfraudidentityverification.overallmatchresult',\n",
      "       '.underwritingdataclarity.clearfraud.clearfraudidentityverification.phonetype',\n",
      "       '.underwritingdataclarity.clearfraud.clearfraudidentityverification.ssndobreasoncode',\n",
      "       '.underwritingdataclarity.clearfraud.clearfraudidentityverification.ssnnamereasoncode',\n",
      "       '.underwritingdataclarity.clearfraud.clearfraudidentityverification.nameaddressreasoncode',\n",
      "       '.underwritingdataclarity.clearfraud.clearfraudidentityverification.ssndobmatch',\n",
      "       '.underwritingdataclarity.clearfraud.clearfraudidentityverification.overallmatchreasoncode',\n",
      "       'clearfraudscore', 'underwritingid'],\n",
      "      dtype='object')\n"
     ]
    }
   ],
   "source": [
    "# Show all the columns name of each dataframe\n",
    "print(\"paymentdf columns:\\n\", paymentdf.columns)\n",
    "print(\"\\nloandf columns:\\n\", loandf.columns)\n",
    "print(\"\\nclaritydf columns:\\n\", claritydf.columns)"
   ]
  },
  {
   "cell_type": "code",
   "execution_count": 7,
   "metadata": {},
   "outputs": [
    {
     "data": {
      "text/plain": [
       "Index(['fraudinquiry.thirtydaysago', 'fraudinquiry.twentyfourhoursago',\n",
       "       'fraudinquiry.oneminuteago', 'fraudinquiry.onehourago',\n",
       "       'fraudinquiry.ninetydaysago', 'fraudinquiry.sevendaysago',\n",
       "       'fraudinquiry.tenminutesago', 'fraudinquiry.fifteendaysago',\n",
       "       'fraudinquiry.threesixtyfivedaysago',\n",
       "       'fraudindicator.inquiryonfilecurrentaddressconflict',\n",
       "       'fraudindicator.totalnumberoffraudindicators',\n",
       "       'fraudindicator.telephonenumberinconsistentwithaddress',\n",
       "       'fraudindicator.inquiryageyoungerthanssnissuedate',\n",
       "       'fraudindicator.onfileaddresscautious',\n",
       "       'fraudindicator.inquiryaddressnonresidential',\n",
       "       'fraudindicator.onfileaddresshighrisk',\n",
       "       'fraudindicator.ssnreportedmorefrequentlyforanother',\n",
       "       'fraudindicator.currentaddressreportedbytradeopenlt90days',\n",
       "       'fraudindicator.inputssninvalid',\n",
       "       'fraudindicator.inputssnissuedatecannotbeverified',\n",
       "       'fraudindicator.inquiryaddresscautious',\n",
       "       'fraudindicator.morethan3inquiriesinthelast30days',\n",
       "       'fraudindicator.onfileaddressnonresidential',\n",
       "       'fraudindicator.creditestablishedpriortossnissuedate',\n",
       "       'fraudindicator.driverlicenseformatinvalid',\n",
       "       'fraudindicator.inputssnrecordedasdeceased',\n",
       "       'fraudindicator.inquiryaddresshighrisk',\n",
       "       'fraudindicator.inquirycurrentaddressnotonfile',\n",
       "       'fraudindicator.bestonfilessnissuedatecannotbeverified',\n",
       "       'fraudindicator.highprobabilityssnbelongstoanother',\n",
       "       'fraudindicator.maxnumberofssnswithanybankaccount',\n",
       "       'fraudindicator.bestonfilessnrecordedasdeceased',\n",
       "       'fraudindicator.currentaddressreportedbynewtradeonly',\n",
       "       'fraudindicator.creditestablishedbeforeage18',\n",
       "       'fraudindicator.telephonenumberinconsistentwithstate',\n",
       "       'fraudindicator.driverlicenseinconsistentwithonfile',\n",
       "       'fraudindicator.workphonepreviouslylistedascellphone',\n",
       "       'fraudindicator.workphonepreviouslylistedashomephone',\n",
       "       'fraudidentityverification.ssnnamematch',\n",
       "       'fraudidentityverification.nameaddressmatch',\n",
       "       'fraudidentityverification.phonematchtype',\n",
       "       'fraudidentityverification.ssnnamereasoncodedescription',\n",
       "       'fraudidentityverification.phonematchresult',\n",
       "       'fraudidentityverification.nameaddressreasoncodedescription',\n",
       "       'fraudidentityverification.phonematchtypedescription',\n",
       "       'fraudidentityverification.overallmatchresult',\n",
       "       'fraudidentityverification.phonetype',\n",
       "       'fraudidentityverification.ssndobreasoncode',\n",
       "       'fraudidentityverification.ssnnamereasoncode',\n",
       "       'fraudidentityverification.nameaddressreasoncode',\n",
       "       'fraudidentityverification.ssndobmatch',\n",
       "       'fraudidentityverification.overallmatchreasoncode', 'clearfraudscore',\n",
       "       'underwritingid'],\n",
       "      dtype='object')"
      ]
     },
     "execution_count": 7,
     "metadata": {},
     "output_type": "execute_result"
    }
   ],
   "source": [
    "# Rename the columns name of claritydf, change all columns consist of \".underwritingdataclarity.clearfraud\" to \"\"\n",
    "# For better readability\n",
    "claritydf.columns = [col.replace(\".underwritingdataclarity.clearfraud.clear\", \"\") for col in claritydf.columns]\n",
    "claritydf.columns\n"
   ]
  },
  {
   "cell_type": "code",
   "execution_count": 8,
   "metadata": {},
   "outputs": [
    {
     "name": "stdout",
     "output_type": "stream",
     "text": [
      "\n",
      "------------Data Types-----------------\n",
      "loanId                               object\n",
      "anon_ssn                             object\n",
      "payFrequency                         object\n",
      "apr                                 float64\n",
      "applicationDate                      object\n",
      "originated                             bool\n",
      "originatedDate                       object\n",
      "nPaidOff                            float64\n",
      "approved                               bool\n",
      "isFunded                              int64\n",
      "loanStatus                           object\n",
      "loanAmount                          float64\n",
      "originallyScheduledPaymentAmount    float64\n",
      "state                                object\n",
      "leadType                             object\n",
      "leadCost                              int64\n",
      "fpStatus                             object\n",
      "clarityFraudId                       object\n",
      "hasCF                                 int64\n",
      "dtype: object\n",
      "\n",
      "--------------Shape--------------------\n",
      "Shape: (577682, 19)\n",
      "\n",
      "------------Missing Values-----------------\n",
      "loanId                                 256\n",
      "anon_ssn                                 0\n",
      "payFrequency                          1273\n",
      "apr                                   3922\n",
      "applicationDate                          0\n",
      "originated                               0\n",
      "originatedDate                      531638\n",
      "nPaidOff                                24\n",
      "approved                                 0\n",
      "isFunded                                 0\n",
      "loanStatus                             391\n",
      "loanAmount                            2250\n",
      "originallyScheduledPaymentAmount         0\n",
      "state                                  132\n",
      "leadType                                 0\n",
      "leadCost                                 0\n",
      "fpStatus                            525959\n",
      "clarityFraudId                      219989\n",
      "hasCF                                    0\n",
      "dtype: int64\n",
      "\n",
      "------------Unique Values-----------------\n",
      "loanId                              577426\n",
      "anon_ssn                            459393\n",
      "payFrequency                             5\n",
      "apr                                    130\n",
      "applicationDate                     577624\n",
      "originated                               2\n",
      "originatedDate                       46042\n",
      "nPaidOff                                22\n",
      "approved                                 2\n",
      "isFunded                                 2\n",
      "loanStatus                              21\n",
      "loanAmount                             564\n",
      "originallyScheduledPaymentAmount     80784\n",
      "state                                   44\n",
      "leadType                                10\n",
      "leadCost                                15\n",
      "fpStatus                                 8\n",
      "clarityFraudId                      314915\n",
      "hasCF                                    2\n",
      "dtype: int64\n",
      "\n",
      "------------Summary-----------------\n",
      "                 apr       nPaidOff       isFunded     loanAmount   \n",
      "count  573760.000000  577658.000000  577682.000000  575432.000000  \\\n",
      "mean      553.080972       0.037887       0.067480     514.245084   \n",
      "std       110.046159       0.333366       0.250852     320.939929   \n",
      "min         0.000000       0.000000       0.000000       0.000000   \n",
      "25%       490.000000       0.000000       0.000000     350.000000   \n",
      "50%       590.000000       0.000000       0.000000     500.000000   \n",
      "75%       601.000000       0.000000       0.000000     500.000000   \n",
      "max       705.590000      21.000000       1.000000    5000.000000   \n",
      "\n",
      "       originallyScheduledPaymentAmount       leadCost          hasCF  \n",
      "count                     577682.000000  577682.000000  577682.000000  \n",
      "mean                        1428.897209       7.854389       0.619187  \n",
      "std                          925.009141      12.853451       0.485587  \n",
      "min                         -816.710000       0.000000       0.000000  \n",
      "25%                         1023.640000       3.000000       0.000000  \n",
      "50%                         1245.250000       3.000000       1.000000  \n",
      "75%                         1615.660000       6.000000       1.000000  \n",
      "max                        19963.630000     200.000000       1.000000  \n",
      "\n",
      "------------First 5 rows-----------------\n"
     ]
    },
    {
     "data": {
      "text/html": [
       "<div>\n",
       "<style scoped>\n",
       "    .dataframe tbody tr th:only-of-type {\n",
       "        vertical-align: middle;\n",
       "    }\n",
       "\n",
       "    .dataframe tbody tr th {\n",
       "        vertical-align: top;\n",
       "    }\n",
       "\n",
       "    .dataframe thead th {\n",
       "        text-align: right;\n",
       "    }\n",
       "</style>\n",
       "<table border=\"1\" class=\"dataframe\">\n",
       "  <thead>\n",
       "    <tr style=\"text-align: right;\">\n",
       "      <th></th>\n",
       "      <th>loanId</th>\n",
       "      <th>anon_ssn</th>\n",
       "      <th>payFrequency</th>\n",
       "      <th>apr</th>\n",
       "      <th>applicationDate</th>\n",
       "      <th>originated</th>\n",
       "      <th>originatedDate</th>\n",
       "      <th>nPaidOff</th>\n",
       "      <th>approved</th>\n",
       "      <th>isFunded</th>\n",
       "      <th>loanStatus</th>\n",
       "      <th>loanAmount</th>\n",
       "      <th>originallyScheduledPaymentAmount</th>\n",
       "      <th>state</th>\n",
       "      <th>leadType</th>\n",
       "      <th>leadCost</th>\n",
       "      <th>fpStatus</th>\n",
       "      <th>clarityFraudId</th>\n",
       "      <th>hasCF</th>\n",
       "    </tr>\n",
       "  </thead>\n",
       "  <tbody>\n",
       "    <tr>\n",
       "      <th>0</th>\n",
       "      <td>LL-I-07399092</td>\n",
       "      <td>beff4989be82aab4a5b47679216942fd</td>\n",
       "      <td>B</td>\n",
       "      <td>360.0</td>\n",
       "      <td>2016-02-23T17:29:01.940000</td>\n",
       "      <td>False</td>\n",
       "      <td>NaN</td>\n",
       "      <td>0.0</td>\n",
       "      <td>False</td>\n",
       "      <td>0</td>\n",
       "      <td>Withdrawn Application</td>\n",
       "      <td>500.0</td>\n",
       "      <td>978.27</td>\n",
       "      <td>IL</td>\n",
       "      <td>bvMandatory</td>\n",
       "      <td>6</td>\n",
       "      <td>NaN</td>\n",
       "      <td>5669ef78e4b0c9d3936440e6</td>\n",
       "      <td>1</td>\n",
       "    </tr>\n",
       "    <tr>\n",
       "      <th>1</th>\n",
       "      <td>LL-I-06644937</td>\n",
       "      <td>464f5d9ae4fa09ece4048d949191865c</td>\n",
       "      <td>B</td>\n",
       "      <td>199.0</td>\n",
       "      <td>2016-01-19T22:07:36.778000</td>\n",
       "      <td>True</td>\n",
       "      <td>2016-01-20T15:49:18.846000</td>\n",
       "      <td>0.0</td>\n",
       "      <td>True</td>\n",
       "      <td>1</td>\n",
       "      <td>Paid Off Loan</td>\n",
       "      <td>3000.0</td>\n",
       "      <td>6395.19</td>\n",
       "      <td>CA</td>\n",
       "      <td>prescreen</td>\n",
       "      <td>0</td>\n",
       "      <td>Checked</td>\n",
       "      <td>569eb3a3e4b096699f685d64</td>\n",
       "      <td>1</td>\n",
       "    </tr>\n",
       "    <tr>\n",
       "      <th>2</th>\n",
       "      <td>LL-I-10707532</td>\n",
       "      <td>3c174ae9e2505a5f9ddbff9843281845</td>\n",
       "      <td>B</td>\n",
       "      <td>590.0</td>\n",
       "      <td>2016-08-01T13:51:14.709000</td>\n",
       "      <td>False</td>\n",
       "      <td>NaN</td>\n",
       "      <td>0.0</td>\n",
       "      <td>False</td>\n",
       "      <td>0</td>\n",
       "      <td>Withdrawn Application</td>\n",
       "      <td>400.0</td>\n",
       "      <td>1199.45</td>\n",
       "      <td>MO</td>\n",
       "      <td>bvMandatory</td>\n",
       "      <td>3</td>\n",
       "      <td>NaN</td>\n",
       "      <td>579eab11e4b0d0502870ef2f</td>\n",
       "      <td>1</td>\n",
       "    </tr>\n",
       "    <tr>\n",
       "      <th>3</th>\n",
       "      <td>LL-I-02272596</td>\n",
       "      <td>9be6f443bb97db7e95fa0c281d34da91</td>\n",
       "      <td>B</td>\n",
       "      <td>360.0</td>\n",
       "      <td>2015-08-06T23:58:08.880000</td>\n",
       "      <td>False</td>\n",
       "      <td>NaN</td>\n",
       "      <td>0.0</td>\n",
       "      <td>False</td>\n",
       "      <td>0</td>\n",
       "      <td>Withdrawn Application</td>\n",
       "      <td>500.0</td>\n",
       "      <td>1074.05</td>\n",
       "      <td>IL</td>\n",
       "      <td>bvMandatory</td>\n",
       "      <td>3</td>\n",
       "      <td>NaN</td>\n",
       "      <td>555b1e95e4b0f6f11b267c18</td>\n",
       "      <td>1</td>\n",
       "    </tr>\n",
       "    <tr>\n",
       "      <th>4</th>\n",
       "      <td>LL-I-09542882</td>\n",
       "      <td>63b5494f60b5c19c827c7b068443752c</td>\n",
       "      <td>B</td>\n",
       "      <td>590.0</td>\n",
       "      <td>2016-06-05T22:31:34.304000</td>\n",
       "      <td>False</td>\n",
       "      <td>NaN</td>\n",
       "      <td>0.0</td>\n",
       "      <td>False</td>\n",
       "      <td>0</td>\n",
       "      <td>Rejected</td>\n",
       "      <td>350.0</td>\n",
       "      <td>814.37</td>\n",
       "      <td>NV</td>\n",
       "      <td>bvMandatory</td>\n",
       "      <td>3</td>\n",
       "      <td>NaN</td>\n",
       "      <td>5754a91be4b0c6a2bf424772</td>\n",
       "      <td>1</td>\n",
       "    </tr>\n",
       "  </tbody>\n",
       "</table>\n",
       "</div>"
      ],
      "text/plain": [
       "          loanId                          anon_ssn payFrequency    apr   \n",
       "0  LL-I-07399092  beff4989be82aab4a5b47679216942fd            B  360.0  \\\n",
       "1  LL-I-06644937  464f5d9ae4fa09ece4048d949191865c            B  199.0   \n",
       "2  LL-I-10707532  3c174ae9e2505a5f9ddbff9843281845            B  590.0   \n",
       "3  LL-I-02272596  9be6f443bb97db7e95fa0c281d34da91            B  360.0   \n",
       "4  LL-I-09542882  63b5494f60b5c19c827c7b068443752c            B  590.0   \n",
       "\n",
       "              applicationDate  originated              originatedDate   \n",
       "0  2016-02-23T17:29:01.940000       False                         NaN  \\\n",
       "1  2016-01-19T22:07:36.778000        True  2016-01-20T15:49:18.846000   \n",
       "2  2016-08-01T13:51:14.709000       False                         NaN   \n",
       "3  2015-08-06T23:58:08.880000       False                         NaN   \n",
       "4  2016-06-05T22:31:34.304000       False                         NaN   \n",
       "\n",
       "   nPaidOff  approved  isFunded             loanStatus  loanAmount   \n",
       "0       0.0     False         0  Withdrawn Application       500.0  \\\n",
       "1       0.0      True         1          Paid Off Loan      3000.0   \n",
       "2       0.0     False         0  Withdrawn Application       400.0   \n",
       "3       0.0     False         0  Withdrawn Application       500.0   \n",
       "4       0.0     False         0               Rejected       350.0   \n",
       "\n",
       "   originallyScheduledPaymentAmount state     leadType  leadCost fpStatus   \n",
       "0                            978.27    IL  bvMandatory         6      NaN  \\\n",
       "1                           6395.19    CA    prescreen         0  Checked   \n",
       "2                           1199.45    MO  bvMandatory         3      NaN   \n",
       "3                           1074.05    IL  bvMandatory         3      NaN   \n",
       "4                            814.37    NV  bvMandatory         3      NaN   \n",
       "\n",
       "             clarityFraudId  hasCF  \n",
       "0  5669ef78e4b0c9d3936440e6      1  \n",
       "1  569eb3a3e4b096699f685d64      1  \n",
       "2  579eab11e4b0d0502870ef2f      1  \n",
       "3  555b1e95e4b0f6f11b267c18      1  \n",
       "4  5754a91be4b0c6a2bf424772      1  "
      ]
     },
     "execution_count": 8,
     "metadata": {},
     "output_type": "execute_result"
    }
   ],
   "source": [
    "# Show the data types of each column of loandf\n",
    "print(\"\\n------------Data Types-----------------\")\n",
    "print(loandf.dtypes)\n",
    "print(\"\\n--------------Shape--------------------\")\n",
    "print(\"Shape:\", loandf.shape)\n",
    "\n",
    "# Count missing values for each column\n",
    "print(\"\\n------------Missing Values-----------------\")\n",
    "print(loandf.isnull().sum())\n",
    "\n",
    "# Count number of unique values for each column\n",
    "print(\"\\n------------Unique Values-----------------\")\n",
    "print(loandf.nunique())\n",
    "\n",
    "# loandf data summary\n",
    "print(\"\\n------------Summary-----------------\")\n",
    "print(loandf.describe())\n",
    "\n",
    "# Show the first 5 rows of loandf\n",
    "print(\"\\n------------First 5 rows-----------------\")\n",
    "loandf.head()"
   ]
  },
  {
   "attachments": {},
   "cell_type": "markdown",
   "metadata": {},
   "source": [
    "---\n",
    "# 2. Data Preprocessing"
   ]
  },
  {
   "attachments": {},
   "cell_type": "markdown",
   "metadata": {},
   "source": [
    "---\n",
    "## 2.1 Preprocess paymentdf / payment.csv for target variable\n",
    "- From payment.csv / paymentdf, we can see that a good borrower will successfully complete most of the repayment. along all the installments. While a bad borrower will unable to complete theiry repayments on time.\n",
    "- This can be indicated by numerous of \"Checked\" value in column *paymentStatus* of a *loanId*.\n",
    "- Thus, I plan to calculate the percentage of \"Checked\" value over the number of installments, noted as checked.\n",
    "- For example, if there are 12 records for a loan and 4 records contains \"Checked\" then the value will be 4/12, 0.33\n"
   ]
  },
  {
   "cell_type": "code",
   "execution_count": 9,
   "metadata": {},
   "outputs": [
    {
     "name": "stdout",
     "output_type": "stream",
     "text": [
      "              loanId  relativeCheckedFrequency\n",
      "0      LL-I-00000021                  0.923077\n",
      "1      LL-I-00000231                  0.100000\n",
      "2      LL-I-00000238                  0.437500\n",
      "3      LL-I-00000308                  0.045455\n",
      "4      LL-I-00000355                  0.000000\n",
      "...              ...                       ...\n",
      "39947  LP-I-00000127                  1.000000\n",
      "39948  LP-I-00000134                  0.142857\n",
      "39949  LP-I-00000139                  0.800000\n",
      "39950  LP-I-00000142                  0.000000\n",
      "39951  LP-I-00000145                  1.000000\n",
      "\n",
      "[39952 rows x 2 columns]\n"
     ]
    },
    {
     "data": {
      "text/html": [
       "<div>\n",
       "<style scoped>\n",
       "    .dataframe tbody tr th:only-of-type {\n",
       "        vertical-align: middle;\n",
       "    }\n",
       "\n",
       "    .dataframe tbody tr th {\n",
       "        vertical-align: top;\n",
       "    }\n",
       "\n",
       "    .dataframe thead th {\n",
       "        text-align: right;\n",
       "    }\n",
       "</style>\n",
       "<table border=\"1\" class=\"dataframe\">\n",
       "  <thead>\n",
       "    <tr style=\"text-align: right;\">\n",
       "      <th></th>\n",
       "      <th>loanId</th>\n",
       "      <th>anon_ssn</th>\n",
       "      <th>payFrequency</th>\n",
       "      <th>apr</th>\n",
       "      <th>applicationDate</th>\n",
       "      <th>originated</th>\n",
       "      <th>originatedDate</th>\n",
       "      <th>nPaidOff</th>\n",
       "      <th>approved</th>\n",
       "      <th>isFunded</th>\n",
       "      <th>loanStatus</th>\n",
       "      <th>loanAmount</th>\n",
       "      <th>originallyScheduledPaymentAmount</th>\n",
       "      <th>state</th>\n",
       "      <th>leadType</th>\n",
       "      <th>leadCost</th>\n",
       "      <th>fpStatus</th>\n",
       "      <th>clarityFraudId</th>\n",
       "      <th>hasCF</th>\n",
       "      <th>relativeCheckedFrequency</th>\n",
       "    </tr>\n",
       "  </thead>\n",
       "  <tbody>\n",
       "    <tr>\n",
       "      <th>0</th>\n",
       "      <td>LL-I-07399092</td>\n",
       "      <td>beff4989be82aab4a5b47679216942fd</td>\n",
       "      <td>B</td>\n",
       "      <td>360.0</td>\n",
       "      <td>2016-02-23T17:29:01.940000</td>\n",
       "      <td>False</td>\n",
       "      <td>NaN</td>\n",
       "      <td>0.0</td>\n",
       "      <td>False</td>\n",
       "      <td>0</td>\n",
       "      <td>Withdrawn Application</td>\n",
       "      <td>500.0</td>\n",
       "      <td>978.27</td>\n",
       "      <td>IL</td>\n",
       "      <td>bvMandatory</td>\n",
       "      <td>6</td>\n",
       "      <td>NaN</td>\n",
       "      <td>5669ef78e4b0c9d3936440e6</td>\n",
       "      <td>1</td>\n",
       "      <td>-0.10</td>\n",
       "    </tr>\n",
       "    <tr>\n",
       "      <th>1</th>\n",
       "      <td>LL-I-06644937</td>\n",
       "      <td>464f5d9ae4fa09ece4048d949191865c</td>\n",
       "      <td>B</td>\n",
       "      <td>199.0</td>\n",
       "      <td>2016-01-19T22:07:36.778000</td>\n",
       "      <td>True</td>\n",
       "      <td>2016-01-20T15:49:18.846000</td>\n",
       "      <td>0.0</td>\n",
       "      <td>True</td>\n",
       "      <td>1</td>\n",
       "      <td>Paid Off Loan</td>\n",
       "      <td>3000.0</td>\n",
       "      <td>6395.19</td>\n",
       "      <td>CA</td>\n",
       "      <td>prescreen</td>\n",
       "      <td>0</td>\n",
       "      <td>Checked</td>\n",
       "      <td>569eb3a3e4b096699f685d64</td>\n",
       "      <td>1</td>\n",
       "      <td>0.88</td>\n",
       "    </tr>\n",
       "    <tr>\n",
       "      <th>2</th>\n",
       "      <td>LL-I-10707532</td>\n",
       "      <td>3c174ae9e2505a5f9ddbff9843281845</td>\n",
       "      <td>B</td>\n",
       "      <td>590.0</td>\n",
       "      <td>2016-08-01T13:51:14.709000</td>\n",
       "      <td>False</td>\n",
       "      <td>NaN</td>\n",
       "      <td>0.0</td>\n",
       "      <td>False</td>\n",
       "      <td>0</td>\n",
       "      <td>Withdrawn Application</td>\n",
       "      <td>400.0</td>\n",
       "      <td>1199.45</td>\n",
       "      <td>MO</td>\n",
       "      <td>bvMandatory</td>\n",
       "      <td>3</td>\n",
       "      <td>NaN</td>\n",
       "      <td>579eab11e4b0d0502870ef2f</td>\n",
       "      <td>1</td>\n",
       "      <td>-0.10</td>\n",
       "    </tr>\n",
       "    <tr>\n",
       "      <th>3</th>\n",
       "      <td>LL-I-02272596</td>\n",
       "      <td>9be6f443bb97db7e95fa0c281d34da91</td>\n",
       "      <td>B</td>\n",
       "      <td>360.0</td>\n",
       "      <td>2015-08-06T23:58:08.880000</td>\n",
       "      <td>False</td>\n",
       "      <td>NaN</td>\n",
       "      <td>0.0</td>\n",
       "      <td>False</td>\n",
       "      <td>0</td>\n",
       "      <td>Withdrawn Application</td>\n",
       "      <td>500.0</td>\n",
       "      <td>1074.05</td>\n",
       "      <td>IL</td>\n",
       "      <td>bvMandatory</td>\n",
       "      <td>3</td>\n",
       "      <td>NaN</td>\n",
       "      <td>555b1e95e4b0f6f11b267c18</td>\n",
       "      <td>1</td>\n",
       "      <td>-0.10</td>\n",
       "    </tr>\n",
       "    <tr>\n",
       "      <th>4</th>\n",
       "      <td>LL-I-09542882</td>\n",
       "      <td>63b5494f60b5c19c827c7b068443752c</td>\n",
       "      <td>B</td>\n",
       "      <td>590.0</td>\n",
       "      <td>2016-06-05T22:31:34.304000</td>\n",
       "      <td>False</td>\n",
       "      <td>NaN</td>\n",
       "      <td>0.0</td>\n",
       "      <td>False</td>\n",
       "      <td>0</td>\n",
       "      <td>Rejected</td>\n",
       "      <td>350.0</td>\n",
       "      <td>814.37</td>\n",
       "      <td>NV</td>\n",
       "      <td>bvMandatory</td>\n",
       "      <td>3</td>\n",
       "      <td>NaN</td>\n",
       "      <td>5754a91be4b0c6a2bf424772</td>\n",
       "      <td>1</td>\n",
       "      <td>-0.10</td>\n",
       "    </tr>\n",
       "  </tbody>\n",
       "</table>\n",
       "</div>"
      ],
      "text/plain": [
       "          loanId                          anon_ssn payFrequency    apr   \n",
       "0  LL-I-07399092  beff4989be82aab4a5b47679216942fd            B  360.0  \\\n",
       "1  LL-I-06644937  464f5d9ae4fa09ece4048d949191865c            B  199.0   \n",
       "2  LL-I-10707532  3c174ae9e2505a5f9ddbff9843281845            B  590.0   \n",
       "3  LL-I-02272596  9be6f443bb97db7e95fa0c281d34da91            B  360.0   \n",
       "4  LL-I-09542882  63b5494f60b5c19c827c7b068443752c            B  590.0   \n",
       "\n",
       "              applicationDate  originated              originatedDate   \n",
       "0  2016-02-23T17:29:01.940000       False                         NaN  \\\n",
       "1  2016-01-19T22:07:36.778000        True  2016-01-20T15:49:18.846000   \n",
       "2  2016-08-01T13:51:14.709000       False                         NaN   \n",
       "3  2015-08-06T23:58:08.880000       False                         NaN   \n",
       "4  2016-06-05T22:31:34.304000       False                         NaN   \n",
       "\n",
       "   nPaidOff  approved  isFunded             loanStatus  loanAmount   \n",
       "0       0.0     False         0  Withdrawn Application       500.0  \\\n",
       "1       0.0      True         1          Paid Off Loan      3000.0   \n",
       "2       0.0     False         0  Withdrawn Application       400.0   \n",
       "3       0.0     False         0  Withdrawn Application       500.0   \n",
       "4       0.0     False         0               Rejected       350.0   \n",
       "\n",
       "   originallyScheduledPaymentAmount state     leadType  leadCost fpStatus   \n",
       "0                            978.27    IL  bvMandatory         6      NaN  \\\n",
       "1                           6395.19    CA    prescreen         0  Checked   \n",
       "2                           1199.45    MO  bvMandatory         3      NaN   \n",
       "3                           1074.05    IL  bvMandatory         3      NaN   \n",
       "4                            814.37    NV  bvMandatory         3      NaN   \n",
       "\n",
       "             clarityFraudId  hasCF  relativeCheckedFrequency  \n",
       "0  5669ef78e4b0c9d3936440e6      1                     -0.10  \n",
       "1  569eb3a3e4b096699f685d64      1                      0.88  \n",
       "2  579eab11e4b0d0502870ef2f      1                     -0.10  \n",
       "3  555b1e95e4b0f6f11b267c18      1                     -0.10  \n",
       "4  5754a91be4b0c6a2bf424772      1                     -0.10  "
      ]
     },
     "execution_count": 9,
     "metadata": {},
     "output_type": "execute_result"
    }
   ],
   "source": [
    "# Create a new dataframe with \"loanId\" and \"relativeCheckedFrequency\" columns\n",
    "# For each loanId in paymentdf, calculate the relativeCheckedFrequency.\n",
    "# relativeCheckedFrequency =  number of value \"Checked\" / total number of rows of the loanId\n",
    "# For example, if there are 3 rows with value \"Checked\" and 2 rows with value \"Unchecked\" for a loanId,\n",
    "# then the relativeCheckedFrequency = 3 / (3 + 2) = 0.6s\n",
    "\n",
    "# Calculate the relativeCheckedFrequency for each loanId\n",
    "grouped = paymentdf.groupby('loanId')['paymentStatus'].apply(lambda x: (x == 'Checked').sum() / len(x))\n",
    "\n",
    "# Create a new DataFrame with 'loanId' and 'relativeCheckedFrequency' columns\n",
    "checkedFrequencyDf = pd.DataFrame({'loanId': grouped.index, 'relativeCheckedFrequency': grouped.values})\n",
    "\n",
    "# Output the new checkedFrequencyDf\n",
    "print(checkedFrequencyDf)\n",
    "\n",
    "# combine checkedFrequencyDf with loandf by using loan ID\n",
    "modelDf = pd.merge(loandf, checkedFrequencyDf, on='loanId', how='left')\n",
    "\n",
    "# Impute the null values with -0.1\n",
    "modelDf['relativeCheckedFrequency'] = modelDf['relativeCheckedFrequency'].fillna(-0.1)\n",
    "\n",
    "modelDf.head()\n"
   ]
  },
  {
   "attachments": {},
   "cell_type": "markdown",
   "metadata": {},
   "source": [
    "Now, we will try to verify whether relativeCheckedFrequency is a reflected the status of a borrower.  \n",
    "We will do 2 test:  \n",
    "1. Test whether relativeCheckedFrequency is correlated with loanStatus = \"Paid Off Loan\", \"Paid Off Loan\" borrower should has higher relativeCheckedFrequency.  \n",
    "   \n",
    "2. Test whether relativeCheckedFrequency is correlated with loanStatus = \"Defaulted Loan\", \"Defaulted Loan\" borrower should has lower relativeCheckedFrequency.\n"
   ]
  },
  {
   "cell_type": "code",
   "execution_count": 10,
   "metadata": {},
   "outputs": [
    {
     "name": "stdout",
     "output_type": "stream",
     "text": [
      "               loanId                          anon_ssn payFrequency    apr   \n",
      "1       LL-I-06644937  464f5d9ae4fa09ece4048d949191865c            B  199.0  \\\n",
      "47      LL-I-16519347  bc9fa73468acf18cb968a3a6a3c4697c            S  490.0   \n",
      "54      LL-I-11506719  10cefd11d41612b032fd9cd2debe32dc            B  590.0   \n",
      "64      LL-I-09279047  1d249e27292d25e4d3b4bc142a2a4aea            W  404.1   \n",
      "98      LL-I-01316580  2a10b2e04c5eec9a47a8cf5b9b81a2b8            W  590.0   \n",
      "...               ...                               ...          ...    ...   \n",
      "577505  LL-I-15390953  c81e355845a451b77c29b6515efa2578            B  645.0   \n",
      "577564  LL-I-12367915  55392b05f72f8c3e32e5157612406ba8            B  565.0   \n",
      "577590  LL-I-15280684  73690518af906288434b2a0cfd972fe0            M  645.0   \n",
      "577617  LL-I-09897110  0538f828b4a0b44502ead5a8033ee779            B  449.0   \n",
      "577662  LL-I-13311312  043dd86c24c63c8968082fa3ad7a8911            W  645.0   \n",
      "\n",
      "                   applicationDate  originated              originatedDate   \n",
      "1       2016-01-19T22:07:36.778000        True  2016-01-20T15:49:18.846000  \\\n",
      "47      2017-01-31T17:48:17.381000        True  2017-01-31T18:00:14.520000   \n",
      "54      2016-08-27T09:08:05.442000        True  2016-08-29T15:05:04.014000   \n",
      "64      2016-05-25T03:05:18.849000        True  2016-05-25T15:11:36.260000   \n",
      "98      2015-05-26T17:02:27.312000        True  2015-05-26T18:45:48.024000   \n",
      "...                            ...         ...                         ...   \n",
      "577505  2017-01-16T04:56:31.235000        True  2017-01-16T05:30:10.885000   \n",
      "577564  2016-12-01T16:57:49.231000        True  2016-12-01T17:28:21.872000   \n",
      "577590  2017-01-14T19:43:08.685000        True  2017-01-14T20:00:10.426000   \n",
      "577617  2016-06-22T01:10:50.110000        True  2016-06-22T21:46:54.359000   \n",
      "577662  2016-12-16T20:20:30.157000        True  2016-12-16T23:15:06.874000   \n",
      "\n",
      "        nPaidOff  approved  isFunded  ... loanAmount   \n",
      "1            0.0      True         1  ...     3000.0  \\\n",
      "47           2.0      True         1  ...     1250.0   \n",
      "54           0.0      True         1  ...      800.0   \n",
      "64           3.0      True         1  ...      300.0   \n",
      "98           0.0      True         1  ...      300.0   \n",
      "...          ...       ...       ...  ...        ...   \n",
      "577505       0.0      True         1  ...     1500.0   \n",
      "577564       3.0      True         1  ...      600.0   \n",
      "577590       0.0      True         1  ...      375.0   \n",
      "577617       0.0      True         1  ...      400.0   \n",
      "577662       0.0      True         1  ...      300.0   \n",
      "\n",
      "        originallyScheduledPaymentAmount  state      leadType leadCost   \n",
      "1                                6395.19     CA     prescreen        0  \\\n",
      "47                               3313.78     MO       organic        0   \n",
      "54                               2432.08     CA   bvMandatory       10   \n",
      "64                                422.64     WI       organic        0   \n",
      "98                                896.87     MO   bvMandatory        6   \n",
      "...                                  ...    ...           ...      ...   \n",
      "577505                           5111.56     ND          lead       25   \n",
      "577564                           1670.18     CA  rc_returning        0   \n",
      "577590                           1042.40     AL          lead       25   \n",
      "577617                            664.12     WI          lead       40   \n",
      "577662                           1034.38     CT          lead        6   \n",
      "\n",
      "        fpStatus            clarityFraudId hasCF  relativeCheckedFrequency   \n",
      "1        Checked  569eb3a3e4b096699f685d64     1                  0.880000  \\\n",
      "47       Checked  58450a15e4b0bb9d6d7344c7     1                  0.076923   \n",
      "54       Checked  578f9346e4b0810ad5e7b72e     1                  1.000000   \n",
      "64       Checked  56621584e4b0100e84141586     1                  0.222222   \n",
      "98      Rejected                       NaN     0                  0.120000   \n",
      "...          ...                       ...   ...                       ...   \n",
      "577505   Checked  587c527ce4b08f2487e808ba     1                  0.142857   \n",
      "577564   Checked                       NaN     0                  0.214286   \n",
      "577590   Checked  587a7f49e4b08f2485d48358     1                  0.142857   \n",
      "577617   Checked  5769e592e4b0ab6c50364d45     1                  1.000000   \n",
      "577662   Checked  5840ad86e4b0bb9d6980127f     1                  0.037037   \n",
      "\n",
      "        relativeCheckedFrequency_class  \n",
      "1                           (0.8, 0.9]  \n",
      "47                          (0.0, 0.1]  \n",
      "54                          (0.9, 1.0]  \n",
      "64                          (0.2, 0.3]  \n",
      "98                          (0.1, 0.2]  \n",
      "...                                ...  \n",
      "577505                      (0.1, 0.2]  \n",
      "577564                      (0.2, 0.3]  \n",
      "577590                      (0.1, 0.2]  \n",
      "577617                      (0.9, 1.0]  \n",
      "577662                      (0.0, 0.1]  \n",
      "\n",
      "[11427 rows x 21 columns]\n"
     ]
    },
    {
     "name": "stderr",
     "output_type": "stream",
     "text": [
      "/var/folders/4g/jfvz9fnd7blddks5n_g5qm3r0000gn/T/ipykernel_40223/3363172852.py:8: SettingWithCopyWarning: \n",
      "A value is trying to be set on a copy of a slice from a DataFrame.\n",
      "Try using .loc[row_indexer,col_indexer] = value instead\n",
      "\n",
      "See the caveats in the documentation: https://pandas.pydata.org/pandas-docs/stable/user_guide/indexing.html#returning-a-view-versus-a-copy\n",
      "  paidOffDf['relativeCheckedFrequency_class'] = pd.cut(paidOffDf['relativeCheckedFrequency'], bins, right = True, include_lowest = True)\n"
     ]
    },
    {
     "data": {
      "image/png": "[encoded data removed]",
      "text/plain": [
       "<Figure size 640x480 with 1 Axes>"
      ]
     },
     "metadata": {},
     "output_type": "display_data"
    },
    {
     "name": "stdout",
     "output_type": "stream",
     "text": [
      "Notes: class (-0.1,0.0] are null values, which we do not have any payment record in payment.csv\n"
     ]
    }
   ],
   "source": [
    "# Select row with value Paid Off Loan in loanStatus column\n",
    "paidOffDf = modelDf[modelDf['loanStatus'] == 'Paid Off Loan']\n",
    "\n",
    "# Define the boundaries of the classes you're interested in\n",
    "bins = [x for x in np.arange(-0.1, 1.05, 0.1)]\n",
    "\n",
    "# Create a new column 'relativeCheckedFrequency_class' that indicates which class each value falls into\n",
    "paidOffDf['relativeCheckedFrequency_class'] = pd.cut(paidOffDf['relativeCheckedFrequency'], bins, right = True, include_lowest = True)\n",
    "\n",
    "# Plot the histogram\n",
    "paidOffDf['relativeCheckedFrequency_class'].value_counts().sort_index().plot(kind='bar')\n",
    "print(paidOffDf)\n",
    "# Add labels and title, then show the plot\n",
    "plt.xlabel('relativeCheckedFrequency Class')\n",
    "plt.ylabel('Count')\n",
    "plt.title('Relationship of Paid Off Loans and relativeCheckedFrequency')\n",
    "plt.show()\n",
    "print(\"Notes: class (-0.1,0.0] are null values, which we do not have any payment record in payment.csv\")"
   ]
  },
  {
   "attachments": {},
   "cell_type": "markdown",
   "metadata": {},
   "source": [
    "We observed that the relativeCheckedFrequency is highly associated with the loanStatus of \"Paid Off\".  \n",
    "When the loanStatus is \"Paid Off\", the relativeCheckedFrequency is higher.  \n",
    "We proved Test 1.  \n",
    "  \n",
    "Now we will try with \"Defaulted Loan\" for Test 2."
   ]
  },
  {
   "cell_type": "code",
   "execution_count": 11,
   "metadata": {},
   "outputs": [
    {
     "name": "stderr",
     "output_type": "stream",
     "text": [
      "/var/folders/4g/jfvz9fnd7blddks5n_g5qm3r0000gn/T/ipykernel_40223/3767548955.py:9: SettingWithCopyWarning: \n",
      "A value is trying to be set on a copy of a slice from a DataFrame.\n",
      "Try using .loc[row_indexer,col_indexer] = value instead\n",
      "\n",
      "See the caveats in the documentation: https://pandas.pydata.org/pandas-docs/stable/user_guide/indexing.html#returning-a-view-versus-a-copy\n",
      "  defaultedDf['relativeCheckedFrequency_class'] = pd.cut(defaultedDf['relativeCheckedFrequency'], bins, right = True, include_lowest = True)\n"
     ]
    },
    {
     "data": {
      "image/png": "[encoded data removed]",
      "text/plain": [
       "<Figure size 640x480 with 1 Axes>"
      ]
     },
     "metadata": {},
     "output_type": "display_data"
    },
    {
     "name": "stdout",
     "output_type": "stream",
     "text": [
      "Notes: class (-0.1,0.0] are null values, which we do not have any payment record in payment.csv\n"
     ]
    }
   ],
   "source": [
    "# Select row with value Paid Off Loan in loanStatus column\n",
    "defaultedStatus = ['Internal Collection', 'External Collection']\n",
    "defaultedDf = modelDf[modelDf['loanStatus'].isin(defaultedStatus)]\n",
    "\n",
    "# Define the boundaries of the classes you're interested in\n",
    "bins = [x for x in np.arange(-0.1, 1.05, 0.1)]\n",
    "\n",
    "# Create a new column 'relativeCheckedFrequency_class' that indicates which class each value falls into\n",
    "defaultedDf['relativeCheckedFrequency_class'] = pd.cut(defaultedDf['relativeCheckedFrequency'], bins, right = True, include_lowest = True)\n",
    "\n",
    "# Plot a histogram\n",
    "defaultedDf['relativeCheckedFrequency_class'].value_counts().sort_index().plot(kind='bar')\n",
    "\n",
    "# Add labels and title, plot the figure\n",
    "plt.xlabel('relativeCheckedFrequency Class')\n",
    "plt.ylabel('Count')\n",
    "plt.title('Relationship of Defaulted Loans and relativeCheckedFrequency')\n",
    "plt.show()\n",
    "print(\"Notes: class (-0.1,0.0] are null values, which we do not have any payment record in payment.csv\")"
   ]
  },
  {
   "cell_type": "code",
   "execution_count": 12,
   "metadata": {},
   "outputs": [
    {
     "name": "stderr",
     "output_type": "stream",
     "text": [
      "/var/folders/4g/jfvz9fnd7blddks5n_g5qm3r0000gn/T/ipykernel_40223/1519022488.py:9: SettingWithCopyWarning: \n",
      "A value is trying to be set on a copy of a slice from a DataFrame.\n",
      "Try using .loc[row_indexer,col_indexer] = value instead\n",
      "\n",
      "See the caveats in the documentation: https://pandas.pydata.org/pandas-docs/stable/user_guide/indexing.html#returning-a-view-versus-a-copy\n",
      "  defaultedDf['relativeCheckedFrequency_class'] = pd.cut(defaultedDf['relativeCheckedFrequency'], bins , right = True, include_lowest = True)\n"
     ]
    },
    {
     "data": {
      "image/png": "[encoded data removed]",
      "text/plain": [
       "<Figure size 640x480 with 1 Axes>"
      ]
     },
     "metadata": {},
     "output_type": "display_data"
    },
    {
     "name": "stdout",
     "output_type": "stream",
     "text": [
      "Notes: class (-0.1,0.0] are null values, which we do not have any payment record in payment.csv\n"
     ]
    }
   ],
   "source": [
    "# Select row with value Paid Off Loan in loanStatus column\n",
    "defaultedStatus = ['New Loan']\n",
    "defaultedDf = modelDf[modelDf['loanStatus'].isin(defaultedStatus)]\n",
    "\n",
    "# Define the boundaries of the classes you're interested in\n",
    "bins = [x for x in np.arange(-0.1, 1.05, 0.1)]\n",
    "\n",
    "# Create a new column 'relativeCheckedFrequency_class' that indicates which class each value falls into\n",
    "defaultedDf['relativeCheckedFrequency_class'] = pd.cut(defaultedDf['relativeCheckedFrequency'], bins , right = True, include_lowest = True)\n",
    "\n",
    "# Plot a histogram\n",
    "defaultedDf['relativeCheckedFrequency_class'].value_counts().sort_index().plot(kind='bar')\n",
    "\n",
    "# Add labels and title, plot the figure\n",
    "plt.xlabel('relativeCheckedFrequency Class')\n",
    "plt.ylabel('Count')\n",
    "plt.title('Relationship of Defaulted Loans and relativeCheckedFrequency')\n",
    "plt.show()\n",
    "print(\"Notes: class (-0.1,0.0] are null values, which we do not have any payment record in payment.csv\")"
   ]
  },
  {
   "attachments": {},
   "cell_type": "markdown",
   "metadata": {},
   "source": [
    "We observed that the relativeCheckedFrequency is highly associated with the loanStatus of Debt Collection ('Internal Collection', 'External Collection').  \n",
    "When the loanStatus is \"Debt Collection\", the relativeCheckedFrequency is low.   \n",
    "We proved Test 2.   \n",
    "\n",
    "**In conclusion, we can use relativeCheckedFrequency as an element to indicate the quality of loan.**  \n",
    "**In other words, we may involve *relativeCheckedFrequency* in our target variable.**"
   ]
  },
  {
   "attachments": {},
   "cell_type": "markdown",
   "metadata": {},
   "source": [
    "---\n",
    "## 2.2 Preprocess loandf / loan.csv   \n",
    "   \n",
    "Potentially unuseful columns\n",
    "- *originatedDate*\n",
    "    - Only include it, if we are considering the timeline application is submitted\n",
    "- *isFunded*\n",
    "    - The loan is ultimately funded depends on the willingness of candidates, thus, it does not affect the qualification of a candidate.\n",
    "\n",
    "Notes:\n",
    "- Consider relationship of *loanStatus* and *approved* \n",
    "    - Even though the *approved* is false, but it might due to application withdrawal, which doesn't mean he/she a unqualified candidate\n",
    "\n",
    "Target Variable\n",
    "- *loanStatus* will be the first prioritised target value\n",
    "\n",
    "Question:\n",
    "- What is the relationship of *loanAmount* and *originallyScheduledPaymentAmount*?\n"
   ]
  },
  {
   "attachments": {},
   "cell_type": "markdown",
   "metadata": {},
   "source": [
    "### 2.2.1 Preprocess loandf Target Variable - *loanStatus*"
   ]
  },
  {
   "cell_type": "code",
   "execution_count": 13,
   "metadata": {},
   "outputs": [
    {
     "name": "stdout",
     "output_type": "stream",
     "text": [
      "loanStatus\n",
      "Withdrawn Application          450984\n",
      "Rejected                        85070\n",
      "Paid Off Loan                   11427\n",
      "External Collection             11334\n",
      "New Loan                         8112\n",
      "Internal Collection              5567\n",
      "Returned Item                    1182\n",
      "CSR Voided New Loan              1026\n",
      "Settlement Paid Off               708\n",
      "Credit Return Void                704\n",
      "Customer Voided New Loan          504\n",
      "Settled Bankruptcy                326\n",
      "Pending Paid Off                  169\n",
      "Charged Off Paid Off              160\n",
      "Pending Application Fee             5\n",
      "Pending Rescind                     4\n",
      "Pending Application                 4\n",
      "Voided New Loan                     2\n",
      "Charged Off                         1\n",
      "Customver Voided New Loan           1\n",
      "Settlement Pending Paid Off         1\n",
      "Name: count, dtype: int64\n"
     ]
    }
   ],
   "source": [
    "# Count every unique values in column loanStatus\n",
    "print(loandf[\"loanStatus\"].value_counts())"
   ]
  },
  {
   "attachments": {},
   "cell_type": "markdown",
   "metadata": {},
   "source": [
    "#### 2.2.1.1 Remove small classes that frequency has lower than 100 to reduce the complexity of the model."
   ]
  },
  {
   "cell_type": "code",
   "execution_count": 14,
   "metadata": {},
   "outputs": [],
   "source": [
    "# Identify the rows the with less than 50 records in column loanStatus\n",
    "small_class_loanStatus_values_list = loandf[\"loanStatus\"].value_counts()[loandf[\"loanStatus\"].value_counts() < 50]\n",
    "\n",
    "# Drop row of loanStatus with these values in small_class_loanStatus_values_list\n",
    "loandf = loandf[~loandf[\"loanStatus\"].isin(small_class_loanStatus_values_list.index)]\n"
   ]
  },
  {
   "attachments": {},
   "cell_type": "markdown",
   "metadata": {},
   "source": [
    "#### 2.2.1.2 Process (remove & combine) classes of loanStatus"
   ]
  },
  {
   "cell_type": "code",
   "execution_count": 15,
   "metadata": {},
   "outputs": [
    {
     "name": "stdout",
     "output_type": "stream",
     "text": [
      "loanStatus\n",
      "Withdrawn Application       450984\n",
      "Rejected                     85070\n",
      "Paid Off Loan                11427\n",
      "External Collection          11334\n",
      "New Loan                      8112\n",
      "Internal Collection           5567\n",
      "Returned Item                 1182\n",
      "CSR Voided New Loan           1026\n",
      "Settlement Paid Off            708\n",
      "Credit Return Void             704\n",
      "Customer Voided New Loan       504\n",
      "Settled Bankruptcy             326\n",
      "Pending Paid Off               169\n",
      "Charged Off Paid Off           160\n",
      "Name: count, dtype: int64\n"
     ]
    }
   ],
   "source": [
    "# Count every unique values in column loanStatus\n",
    "print(loandf[\"loanStatus\"].value_counts())"
   ]
  },
  {
   "attachments": {},
   "cell_type": "markdown",
   "metadata": {},
   "source": [
    "We can see that there are many classes to be predicted. We will remove meaningless classes, combine similar classes until left \"Defaulted Loan\" & \"Paid Off Loan\" only.\n",
    "\n",
    "1. We will remove \"Withdrawn Application\", \"Rejected\", \"CSR Voided New Loan\", \"Customer Voided New Loan\", \"Credit Return Void\" because these applications are not yet classified thus it is meaningless.\n",
    "   - I assume \"Withdrawn Application\" is the application that is withdrawn by the applicant, thus it is not yet classified.\n",
    "   - I assume \"Rejected\" is due to the applicant didn't submit the required documents, thus it is not yet classified.\n",
    "   - I do not know why \"CSR Voided New Loan\", thus it will be removed until further information is provided.\n",
    "   - I assume \"Customer Voided New Loan\" is due to the applicant changed his/her mind, thus it is not yet classified.  \n",
    "   - I assume \"Credit Return Void\" is due to the applicant voided its own loan after funded, thus it is not yet classified.\n",
    "\\    \n",
    "2. We will assume \"External Collection\" and \"Internal Collection\" as \"Defaulted Loan\".\n",
    "   - I assume \"External Collection\" is the loan that is being collected by external collection agency, thus it was defaulted.\n",
    "   - I assume \"Internal Collection\" is the loan that is being collected by internal collection deparment, thus it was defaulted.  \n",
    "\\  \n",
    "3. \"Settlement Paid Off\", \"Settled Bankruptcy\", \"Charged Off Paid Off\" will be considered \"Defaulted Loan\"\n",
    "   - For \"Settlement Paid Off\", I assume the borrower was unable to repay the full loan amount, so they agreed with the lender to pay a lesser amount to satisfy the debt, thus considered as defaulted.\n",
    "   - For \"Settled Bankruptcy\", I assume the borrower declared bankruptcy, and the debt was included and resolved in the bankruptcy proceedings, thus considered as defaulted.\n",
    "   - For \"Charged Off Paid Odd\", The loan was declared as a loss by the lender (charged off), but was subsequently paid off by the borrower or collections. However, it is still considered as defaulted.  \n",
    "\\  \n",
    "4. \"Pending Paid Off\" will be assumed as \"Paid Off Loan\"\n",
    "\n",
    "5. \"New Loan\" \"Returned Item\" will be considered \"Uncertain Loan\"\n",
    "   - I assume \"New Loan\" is the loan that is newly approved, have few repayment records in payment.csv, but cannot fully determine the quality of loan yet.\n",
    "   - I assume \"Returned Item\" is the loan that is being returned due to borrower has not enough fund to repay, but cannot fully determine the quality of loan is bad yet.\n",
    "\n",
    "We will try to label the target value accordingly, like Paid Off Loan will be the best condition."
   ]
  },
  {
   "cell_type": "code",
   "execution_count": 16,
   "metadata": {},
   "outputs": [],
   "source": [
    "# We will remove \"Withdrawn Application\", \"Rejected\", \"CSR Voided New Loan\", \"Customer Voided New Loan\".\n",
    "removedClasses = [\"Withdrawn Application\", \"Rejected\", \"CSR Voided New Loan\", \"Customer Voided New Loan\", \"Credit Return Void\"]\n",
    "loandf = loandf[~loandf[\"loanStatus\"].isin(removedClasses)]\n",
    "\n",
    "# We will assume \"External Collection\" and \"Internal Collection\",\"Settlement Paid Off\", \"Settled Bankruptcy\", \"Charged Off Paid Off\" as \"Defaulted Loan\".\n",
    "loandf[\"loanStatus\"] = loandf[\"loanStatus\"].replace(\"External Collection\", \"Defaulted Loan\")\n",
    "loandf[\"loanStatus\"] = loandf[\"loanStatus\"].replace(\"Internal Collection\", \"Defaulted Loan\")\n",
    "loandf[\"loanStatus\"] = loandf[\"loanStatus\"].replace(\"Settlement Paid Off\", \"Defaulted Loan\")\n",
    "loandf[\"loanStatus\"] = loandf[\"loanStatus\"].replace(\"Settled Bankruptcy\", \"Defaulted Loan\")\n",
    "loandf[\"loanStatus\"] = loandf[\"loanStatus\"].replace(\"Charged Off Paid Off\", \"Defaulted Loan\")\n",
    "\n",
    "# \"Pending Paid Off\" will be assumed as \"Paid Off Loan\"\n",
    "loandf[\"loanStatus\"] = loandf[\"loanStatus\"].replace(\"Pending Paid Off\", \"Paid Off Loan\")\n",
    "\n",
    "# \"New Loan\" \"Returned Item\" will be considered \"Uncertain Loan\"   \n",
    "loandf[\"loanStatus\"] = loandf[\"loanStatus\"].replace(\"New Loan\", \"Uncertain Loan\")\n",
    "loandf[\"loanStatus\"] = loandf[\"loanStatus\"].replace(\"Returned Item\", \"Uncertain Loan\")\n"
   ]
  },
  {
   "attachments": {},
   "cell_type": "markdown",
   "metadata": {},
   "source": [
    "And now, we should left only 3 categories, which are \"Defaulted Loan\", \"Paid Off Loan\", \"Uncertain Loan\"."
   ]
  },
  {
   "cell_type": "code",
   "execution_count": 17,
   "metadata": {},
   "outputs": [
    {
     "name": "stdout",
     "output_type": "stream",
     "text": [
      "loanStatus\n",
      "Defaulted Loan    18095\n",
      "Paid Off Loan     11596\n",
      "Uncertain Loan     9294\n",
      "Name: count, dtype: int64\n"
     ]
    }
   ],
   "source": [
    "# Count every unique values in column loanStatus\n",
    "print(loandf[\"loanStatus\"].value_counts())"
   ]
  },
  {
   "attachments": {},
   "cell_type": "markdown",
   "metadata": {},
   "source": [
    "### 2.2.2 Preprocess loandf Feature Variables"
   ]
  },
  {
   "attachments": {},
   "cell_type": "markdown",
   "metadata": {},
   "source": [
    "#### 2.2.2.1 Duplicates"
   ]
  },
  {
   "cell_type": "code",
   "execution_count": 18,
   "metadata": {},
   "outputs": [
    {
     "name": "stdout",
     "output_type": "stream",
     "text": [
      "Number of duplicated rows: 0\n",
      "No duplicates found.\n"
     ]
    }
   ],
   "source": [
    "# Check duplicates in loandf\n",
    "# Check any repeated rows\n",
    "print(\"Number of duplicated rows:\", loandf.duplicated().sum())\n",
    "\n",
    "# print \"No duplicates found\" if there is no duplicated rows\n",
    "if loandf.duplicated().sum() > 0:\n",
    "    print(\"Duplicates found\")\n",
    "else:\n",
    "    print (\"No duplicates found.\")\n",
    "\n",
    "\n"
   ]
  },
  {
   "attachments": {},
   "cell_type": "markdown",
   "metadata": {},
   "source": [
    "#### 2.2.2.2 Remove unwanted columns  \n",
    "Columns to be dropped:\n",
    "\n",
    "- *loanId* (will be dropped after combining with paymentdf)\n",
    "    - Doesn't affect the qualification of borrower, but used as reference to claritydf.\n",
    "- *applicationDate*\n",
    "    - Only include it, if we are considering the timeline application is submitted\n",
    "- *anon_ssn*\n",
    "    - An identifier which doesn't affect the qualification of borrower.\n",
    "- *originated*\n",
    "    - Orginated or not will not affect the qualification of a borrower, however, an orginated application is a pre-condition for a loan to be approved, thus, it will cause data leakage. \n",
    "- *originatedDate*\n",
    "    - Only include it, if we are considering the timeline application is submitted\n",
    "    - Too many missing values\n",
    "- *isFunded*\n",
    "    - Whether the loan will be ultimately funded depends on the willingness of borrower, thus, it does not affect the qualification of a borrower.\n",
    "    - This will also cause data leakage, because *isFunded* will only be known after *loanStatus* is determined.\n",
    "- *approved*\n",
    "    - This will also cause data leakage, because *loanStatus* is strongly relying on the value of *approved*, we should able to predict loanStatus before approval is given.\n"
   ]
  },
  {
   "cell_type": "code",
   "execution_count": 19,
   "metadata": {},
   "outputs": [],
   "source": [
    "# Drop the columns stated above\n",
    "loandf.drop([ \"originated\", \"anon_ssn\", \"applicationDate\", \"originatedDate\", \"isFunded\", \"approved\"], axis=1, inplace=True)"
   ]
  },
  {
   "attachments": {},
   "cell_type": "markdown",
   "metadata": {},
   "source": [
    "#### 2.2.2.3 Impute missing value"
   ]
  },
  {
   "cell_type": "code",
   "execution_count": 20,
   "metadata": {},
   "outputs": [
    {
     "name": "stdout",
     "output_type": "stream",
     "text": [
      "\n",
      "------------Data Types-----------------\n",
      "loanId                               object\n",
      "payFrequency                         object\n",
      "apr                                 float64\n",
      "nPaidOff                            float64\n",
      "loanStatus                           object\n",
      "loanAmount                          float64\n",
      "originallyScheduledPaymentAmount    float64\n",
      "state                                object\n",
      "leadType                             object\n",
      "leadCost                              int64\n",
      "fpStatus                             object\n",
      "clarityFraudId                       object\n",
      "hasCF                                 int64\n",
      "dtype: object\n",
      "\n",
      "--------------Shape--------------------\n",
      "Shape: (39376, 13)\n",
      "\n",
      "------------Missing Values-----------------\n",
      "loanId                               256\n",
      "payFrequency                           4\n",
      "apr                                  256\n",
      "nPaidOff                              21\n",
      "loanStatus                           391\n",
      "loanAmount                           256\n",
      "originallyScheduledPaymentAmount       0\n",
      "state                                  0\n",
      "leadType                               0\n",
      "leadCost                               0\n",
      "fpStatus                             148\n",
      "clarityFraudId                      6817\n",
      "hasCF                                  0\n",
      "dtype: int64\n",
      "\n",
      "------------Unique Values-----------------\n",
      "loanId                              39120\n",
      "payFrequency                            5\n",
      "apr                                   119\n",
      "nPaidOff                               22\n",
      "loanStatus                              3\n",
      "loanAmount                            144\n",
      "originallyScheduledPaymentAmount    17384\n",
      "state                                  41\n",
      "leadType                               10\n",
      "leadCost                               15\n",
      "fpStatus                                8\n",
      "clarityFraudId                      30975\n",
      "hasCF                                   2\n",
      "dtype: int64\n"
     ]
    }
   ],
   "source": [
    "# Show the data types of each column of loandf\n",
    "print(\"\\n------------Data Types-----------------\")\n",
    "print(loandf.dtypes)\n",
    "print(\"\\n--------------Shape--------------------\")\n",
    "print(\"Shape:\", loandf.shape)\n",
    "\n",
    "# Count missing values for each column\n",
    "print(\"\\n------------Missing Values-----------------\")\n",
    "print(loandf.isnull().sum())\n",
    "\n",
    "# Count number of unique values for each column\n",
    "print(\"\\n------------Unique Values-----------------\")\n",
    "print(loandf.nunique())"
   ]
  },
  {
   "cell_type": "code",
   "execution_count": 21,
   "metadata": {},
   "outputs": [
    {
     "name": "stdout",
     "output_type": "stream",
     "text": [
      "\n",
      "------------Unique Values-----------------\n",
      "payFrequency: ['B' 'W' 'S' 'M' 'I' nan]\n",
      "\n",
      "apr: [199.     475.     645.     490.     590.     404.1    315.     601.\n",
      " 449.99   550.     625.     359.     472.     325.     404.991  360.\n",
      " 516.25   680.     681.     390.     441.     251.     650.     159.\n",
      " 208.     595.875       nan 465.     501.5    525.     180.2    306.\n",
      " 217.     580.     585.     540.     290.     324.     449.     478.67\n",
      " 442.89   531.     600.     381.65   565.      95.     568.75   139.125\n",
      " 231.     427.5    570.32   500.     510.     540.9    440.     300.\n",
      " 562.5    515.      44.     241.     416.5    340.     288.     265.\n",
      " 552.5    240.     505.     415.     194.     382.4915 355.     239.\n",
      "   0.     555.     546.875  242.     612.9    160.     480.     400.\n",
      " 510.85   531.25   428.75   530.     182.     171.     455.     705.59\n",
      " 143.1    365.     578.     351.     564.375  660.      29.99   439.\n",
      "  36.     392.     578.85   228.     341.25   415.625  640.      85.5\n",
      " 403.75   135.15   630.     175.     612.     495.     312.     405.\n",
      " 225.     205.     520.     544.     331.5    176.8    570.     153.125 ]\n",
      "\n",
      "nPaidOff: [ 0.  2.  3.  1.  4.  5.  7.  6. 18. 13. nan 19. 10.  8. 11.  9. 15. 12.\n",
      " 21. 17. 14. 16. 20.]\n",
      "\n",
      "loanStatus: ['Paid Off Loan' 'Uncertain Loan' 'Defaulted Loan' nan]\n",
      "\n",
      "loanAmount: [3000.   350.   400.  1250.   800.   300.  1500.   600.   500.   700.\n",
      "  550.   750.   437.  1000.   375.  1100.  2600.  3250.   325.  3500.\n",
      "  200.   900.     nan  751.   850.  3100.   625.   950.  1800.   601.\n",
      " 2000.  1125.   801.   781.  1200.   650.  4000.  3200.   875.   651.\n",
      "  562.   450.   250.   100.  1002.  1050.  1300.   468.  1600.  3750.\n",
      "  999.  3875.  1400.   585.   546.  1550.  1171.   702.  1707.  1875.\n",
      " 1562.  2750.  2500.   701.  1001.   812.   913.  1093.  2850.   602.\n",
      " 4375.  1850.   406.  1062.  1350.   150.  2900.  1150.  2343.  1201.\n",
      " 1312.  2800.  1625.  1750.  2950.  1650.  1450.   937.   869.  1220.\n",
      "  525.  1700.   749.  2187.  2250.   691.   529.  1051.  3450.   802.\n",
      " 1562.5 3150.  2285.   687.   752.   976.  1900.  1406.   425.  4687.\n",
      "  507.  3900.   810.  2050.  2700.   652.  1366.  2650.   682.  2100.\n",
      "  575.  3700.   731.  1426.  1757.  2562.  1187.   901.  1375.   951.\n",
      "  312.   845.  1952.  1175.  1040.   852.  1327.   851.  1950.   649.\n",
      " 1101.   562.5 1074.   225.  1463. ]\n",
      "\n",
      "originallyScheduledPaymentAmount: [6395.19  893.88 1364.87 ...  794.6  1042.4   664.12]\n",
      "\n",
      "state: ['CA' 'MO' 'NJ' 'WI' 'IL' 'MI' 'FL' 'SC' 'OH' 'NV' 'IN' 'VA' 'TN' 'OK'\n",
      " 'NC' 'TX' 'PA' 'HI' 'MS' 'KY' 'AL' 'GA' 'NM' 'ID' 'ND' 'AZ' 'CO' 'NE'\n",
      " 'SD' 'MN' 'LA' 'CT' 'WY' 'KS' 'DE' 'WA' 'UT' 'AK' 'RI' 'IA' 'MD']\n",
      "\n",
      "leadType: ['prescreen' 'organic' 'lead' 'bvMandatory' 'rc_returning' 'california'\n",
      " 'instant-offer' 'express' 'repeat' 'lionpay']\n",
      "\n",
      "leadCost: [  0  40  10   6  25   3  75 170  60 120  45  11 100 115 200]\n",
      "\n",
      "fpStatus: ['Checked' 'Rejected' 'Skipped' 'No Payments' nan 'No Schedule'\n",
      " 'Cancelled' 'Pending' 'Returned']\n",
      "\n",
      "clarityFraudId: ['569eb3a3e4b096699f685d64' nan '58b6eef8e4b0b6fca82fd426' ...\n",
      " '5769e592e4b0ab6c50364d45' '58668211e4b08f246e282356'\n",
      " '5840ad86e4b0bb9d6980127f']\n",
      "\n",
      "hasCF: [1 0]\n"
     ]
    }
   ],
   "source": [
    "# List the unique values for all columns\n",
    "print(\"\\n------------Unique Values-----------------\")\n",
    "print(\"payFrequency:\", loandf[\"payFrequency\"].unique())\n",
    "print(\"\\napr:\", loandf[\"apr\"].unique())\n",
    "print(\"\\nnPaidOff:\", loandf[\"nPaidOff\"].unique())\n",
    "print(\"\\nloanStatus:\", loandf[\"loanStatus\"].unique())\n",
    "print(\"\\nloanAmount:\", loandf[\"loanAmount\"].unique())\n",
    "print(\"\\noriginallyScheduledPaymentAmount:\", loandf[\"originallyScheduledPaymentAmount\"].unique())\n",
    "print(\"\\nstate:\", loandf[\"state\"].unique())\n",
    "print(\"\\nleadType:\", loandf[\"leadType\"].unique())\n",
    "print(\"\\nleadCost:\", loandf[\"leadCost\"].unique())\n",
    "print(\"\\nfpStatus:\", loandf[\"fpStatus\"].unique())\n",
    "print(\"\\nclarityFraudId:\", loandf[\"clarityFraudId\"].unique())\n",
    "print(\"\\nhasCF:\", loandf[\"hasCF\"].unique())\n",
    "\n"
   ]
  },
  {
   "attachments": {},
   "cell_type": "markdown",
   "metadata": {},
   "source": [
    "Way to address columns with missing value:\n",
    "- payFrequency: Impute value with mode, which is \"B\" (bi-weekly)\n",
    "- nPaidOff: Impute value '0' if missing\n",
    "- loanAmount: Drop row because missing loanAmount also mean the loan is invalid too (We found all loanStatus with missing loanAmount is also null values)\n",
    "- loanStatus: Drop rows with missing loanStatus because it is the target variable\n",
    "- apr: Drop rows with missing apr because the loan application is invalid\n",
    "- fpStatus: Impute with 'None' as dictionary stated how it should be."
   ]
  },
  {
   "cell_type": "code",
   "execution_count": 22,
   "metadata": {},
   "outputs": [],
   "source": [
    "# Address missing values for each column\n",
    "\n",
    "# nPaidOff\n",
    "# Drop missing values rows in nPaidOff column\n",
    "loandf.dropna(subset=[\"nPaidOff\"], inplace=True)\n",
    "\n",
    "# payFrequency\n",
    "# Impute mode value for missing values in payFrequency column\n",
    "# What is the mode of payFrequency column?\n",
    "loandf[\"payFrequency\"].fillna(loandf[\"payFrequency\"].mode()[0], inplace=True)\n",
    "\n",
    "# loanAmount\n",
    "# Drop missing values rows in loanAmount column\n",
    "loandf.dropna(subset=[\"loanAmount\"], inplace=True)\n",
    "\n",
    "# loanStatus\n",
    "# Drop missing values rows in loanStatus column\n",
    "loandf.dropna(subset=[\"loanStatus\"], inplace=True)\n",
    "\n",
    "# apr\n",
    "# Drop missing values rows in apr column\n",
    "loandf.dropna(subset=[\"apr\"], inplace=True)\n",
    "\n",
    "# fpStatus\n",
    "# Impute with 'None' for missing values in fpStatus column\n",
    "loandf[\"fpStatus\"].fillna(\"None\", inplace=True)\n"
   ]
  },
  {
   "cell_type": "code",
   "execution_count": 23,
   "metadata": {},
   "outputs": [
    {
     "name": "stdout",
     "output_type": "stream",
     "text": [
      "\n",
      "------------Data Types-----------------\n",
      "loanId                               object\n",
      "payFrequency                         object\n",
      "apr                                 float64\n",
      "nPaidOff                            float64\n",
      "loanStatus                           object\n",
      "loanAmount                          float64\n",
      "originallyScheduledPaymentAmount    float64\n",
      "state                                object\n",
      "leadType                             object\n",
      "leadCost                              int64\n",
      "fpStatus                             object\n",
      "clarityFraudId                       object\n",
      "hasCF                                 int64\n",
      "dtype: object\n",
      "\n",
      "--------------Shape--------------------\n",
      "Shape: (38964, 13)\n",
      "\n",
      "------------Missing Values-----------------\n",
      "loanId                                 0\n",
      "payFrequency                           0\n",
      "apr                                    0\n",
      "nPaidOff                               0\n",
      "loanStatus                             0\n",
      "loanAmount                             0\n",
      "originallyScheduledPaymentAmount       0\n",
      "state                                  0\n",
      "leadType                               0\n",
      "leadCost                               0\n",
      "fpStatus                               0\n",
      "clarityFraudId                      6602\n",
      "hasCF                                  0\n",
      "dtype: int64\n",
      "\n",
      "------------Unique Values-----------------\n",
      "loanId                              38964\n",
      "payFrequency                            5\n",
      "apr                                   118\n",
      "nPaidOff                               22\n",
      "loanStatus                              3\n",
      "loanAmount                            142\n",
      "originallyScheduledPaymentAmount    17344\n",
      "state                                  41\n",
      "leadType                               10\n",
      "leadCost                               15\n",
      "fpStatus                                8\n",
      "clarityFraudId                      30794\n",
      "hasCF                                   2\n",
      "dtype: int64\n"
     ]
    }
   ],
   "source": [
    "# Show the data types of each column of loandf\n",
    "print(\"\\n------------Data Types-----------------\")\n",
    "print(loandf.dtypes)\n",
    "print(\"\\n--------------Shape--------------------\")\n",
    "print(\"Shape:\", loandf.shape)\n",
    "\n",
    "# Count missing values for each column\n",
    "print(\"\\n------------Missing Values-----------------\")\n",
    "print(loandf.isnull().sum())\n",
    "\n",
    "# Count number of unique values for each column\n",
    "print(\"\\n------------Unique Values-----------------\")\n",
    "print(loandf.nunique())"
   ]
  },
  {
   "cell_type": "code",
   "execution_count": null,
   "metadata": {},
   "outputs": [],
   "source": []
  },
  {
   "attachments": {},
   "cell_type": "markdown",
   "metadata": {},
   "source": [
    "---\n",
    "## 2.3 Preprocess claritydf / clarity_underwriting_variables.csv"
   ]
  },
  {
   "attachments": {},
   "cell_type": "markdown",
   "metadata": {},
   "source": [
    "#### 2.3.1 Combine claritdydf with loandf"
   ]
  },
  {
   "attachments": {},
   "cell_type": "markdown",
   "metadata": {},
   "source": [
    "We combine only clearFraudScore because we assume clearFraudScore has conclude all other fraud features."
   ]
  },
  {
   "cell_type": "code",
   "execution_count": 24,
   "metadata": {},
   "outputs": [],
   "source": [
    "# Combine claritydf['clearFraudScore'] with loandf by using clarityFraudId & underwritingid\n",
    "claritydf = claritydf.rename(columns={\"underwritingid\": \"clarityFraudId\"})\n",
    "# Remove all other columns except clearFraudScore and clarityFraudId\n",
    "claritydf = claritydf[['clarityFraudId','clearfraudscore']]\n",
    "\n",
    "loan_claritydf = pd.merge(loandf, claritydf, on='clarityFraudId', how='left')\n",
    "\n",
    "\n",
    "# drop clarityFraudId column\n",
    "loan_claritydf.drop([\"clarityFraudId\"], axis=1, inplace=True)"
   ]
  },
  {
   "cell_type": "code",
   "execution_count": 25,
   "metadata": {},
   "outputs": [
    {
     "name": "stdout",
     "output_type": "stream",
     "text": [
      "\n",
      "------------Data Types-----------------\n",
      "loanId                               object\n",
      "payFrequency                         object\n",
      "apr                                 float64\n",
      "nPaidOff                            float64\n",
      "loanStatus                           object\n",
      "loanAmount                          float64\n",
      "originallyScheduledPaymentAmount    float64\n",
      "state                                object\n",
      "leadType                             object\n",
      "leadCost                              int64\n",
      "fpStatus                             object\n",
      "hasCF                                 int64\n",
      "clearfraudscore                     float64\n",
      "dtype: object\n",
      "\n",
      "--------------Shape--------------------\n",
      "Shape: (38964, 13)\n",
      "\n",
      "------------Missing Values-----------------\n",
      "loanId                                 0\n",
      "payFrequency                           0\n",
      "apr                                    0\n",
      "nPaidOff                               0\n",
      "loanStatus                             0\n",
      "loanAmount                             0\n",
      "originallyScheduledPaymentAmount       0\n",
      "state                                  0\n",
      "leadType                               0\n",
      "leadCost                               0\n",
      "fpStatus                               0\n",
      "hasCF                                  0\n",
      "clearfraudscore                     6879\n",
      "dtype: int64\n",
      "\n",
      "------------Unique Values-----------------\n",
      "loanId                              38964\n",
      "payFrequency                            5\n",
      "apr                                   118\n",
      "nPaidOff                               22\n",
      "loanStatus                              3\n",
      "loanAmount                            142\n",
      "originallyScheduledPaymentAmount    17344\n",
      "state                                  41\n",
      "leadType                               10\n",
      "leadCost                               15\n",
      "fpStatus                                8\n",
      "hasCF                                   2\n",
      "clearfraudscore                       678\n",
      "dtype: int64\n"
     ]
    }
   ],
   "source": [
    "# Show the data types of each column of loan_claritydf\n",
    "print(\"\\n------------Data Types-----------------\")\n",
    "print(loan_claritydf.dtypes)\n",
    "print(\"\\n--------------Shape--------------------\")\n",
    "print(\"Shape:\", loan_claritydf.shape)\n",
    "\n",
    "# Count missing values for each column\n",
    "print(\"\\n------------Missing Values-----------------\")\n",
    "print(loan_claritydf.isnull().sum())\n",
    "\n",
    "# Count number of unique values for each column\n",
    "print(\"\\n------------Unique Values-----------------\")\n",
    "print(loan_claritydf.nunique())"
   ]
  },
  {
   "attachments": {},
   "cell_type": "markdown",
   "metadata": {},
   "source": [
    "#### 2.3.2 Impute Missing Values of clearfraudscore "
   ]
  },
  {
   "cell_type": "code",
   "execution_count": 26,
   "metadata": {},
   "outputs": [
    {
     "name": "stdout",
     "output_type": "stream",
     "text": [
      "count    49615.000000\n",
      "mean       683.769787\n",
      "std        126.205372\n",
      "min        122.000000\n",
      "25%        592.000000\n",
      "50%        691.000000\n",
      "75%        783.000000\n",
      "max        965.000000\n",
      "Name: clearfraudscore, dtype: float64\n"
     ]
    },
    {
     "data": {
      "text/plain": [
       "<Axes: ylabel='Frequency'>"
      ]
     },
     "execution_count": 26,
     "metadata": {},
     "output_type": "execute_result"
    },
    {
     "data": {
      "image/png": "[encoded data removed]",
      "text/plain": [
       "<Figure size 640x480 with 1 Axes>"
      ]
     },
     "metadata": {},
     "output_type": "display_data"
    }
   ],
   "source": [
    "# Check the distribution of clearfraudscore in claritydf\n",
    "print(claritydf['clearfraudscore'].describe())\n",
    "\n",
    "# Plot the histogram\n",
    "claritydf['clearfraudscore'].plot(kind='hist', bins=20)\n"
   ]
  },
  {
   "attachments": {},
   "cell_type": "markdown",
   "metadata": {},
   "source": [
    "The distribution has long left tail, we will take a most right value of central tendacy measure which is **mode**.  \n",
    "The reason is that we want to increase the overall threshold of being classified as good loan, which is \"paid off loan\"."
   ]
  },
  {
   "cell_type": "code",
   "execution_count": 27,
   "metadata": {},
   "outputs": [],
   "source": [
    "# Impute missing clearfraudscore with mode value.\n",
    "loan_claritydf['clearfraudscore'].fillna(loan_claritydf['clearfraudscore'].mode()[0], inplace=True)"
   ]
  },
  {
   "attachments": {},
   "cell_type": "markdown",
   "metadata": {},
   "source": [
    "## 2.4 Combine loan_claritydf with paymentdf['relativeCheckedFrequency']"
   ]
  },
  {
   "cell_type": "code",
   "execution_count": 28,
   "metadata": {},
   "outputs": [
    {
     "data": {
      "text/plain": [
       "<Axes: ylabel='Frequency'>"
      ]
     },
     "execution_count": 28,
     "metadata": {},
     "output_type": "execute_result"
    },
    {
     "data": {
      "image/png": "[encoded data removed]",
      "text/plain": [
       "<Figure size 640x480 with 1 Axes>"
      ]
     },
     "metadata": {},
     "output_type": "display_data"
    }
   ],
   "source": [
    "# Combine loan_claritydf with paymentdf['relativeCheckedFrequency'] by using loanId\n",
    "modeldf = pd.merge(loan_claritydf, checkedFrequencyDf, on='loanId', how='left')\n",
    "\n",
    "# Drop loanId column\n",
    "modeldf.drop([\"loanId\"], axis=1, inplace=True)\n",
    "\n",
    "# Visualize the distribution of relativeCheckedFrequency\n",
    "modeldf['relativeCheckedFrequency'].plot(kind='hist', bins=10)\n",
    "\n",
    "# Impute missing values with mode value\n",
    "# modeldf['relativeCheckedFrequency'].fillna(modeldf['relativeCheckedFrequency'].mode()[0], inplace=True)\n"
   ]
  },
  {
   "cell_type": "code",
   "execution_count": 29,
   "metadata": {},
   "outputs": [
    {
     "name": "stdout",
     "output_type": "stream",
     "text": [
      "\n",
      "------------Data Types-----------------\n",
      "payFrequency                         object\n",
      "apr                                 float64\n",
      "nPaidOff                            float64\n",
      "loanStatus                           object\n",
      "loanAmount                          float64\n",
      "originallyScheduledPaymentAmount    float64\n",
      "state                                object\n",
      "leadType                             object\n",
      "leadCost                              int64\n",
      "fpStatus                             object\n",
      "hasCF                                 int64\n",
      "clearfraudscore                     float64\n",
      "relativeCheckedFrequency            float64\n",
      "dtype: object\n",
      "\n",
      "--------------Shape--------------------\n",
      "Shape: (38964, 13)\n",
      "\n",
      "------------Missing Values-----------------\n",
      "payFrequency                          0\n",
      "apr                                   0\n",
      "nPaidOff                              0\n",
      "loanStatus                            0\n",
      "loanAmount                            0\n",
      "originallyScheduledPaymentAmount      0\n",
      "state                                 0\n",
      "leadType                              0\n",
      "leadCost                              0\n",
      "fpStatus                              0\n",
      "hasCF                                 0\n",
      "clearfraudscore                       0\n",
      "relativeCheckedFrequency            109\n",
      "dtype: int64\n",
      "\n",
      "------------Unique Values-----------------\n",
      "payFrequency                            5\n",
      "apr                                   118\n",
      "nPaidOff                               22\n",
      "loanStatus                              3\n",
      "loanAmount                            142\n",
      "originallyScheduledPaymentAmount    17344\n",
      "state                                  41\n",
      "leadType                               10\n",
      "leadCost                               15\n",
      "fpStatus                                8\n",
      "hasCF                                   2\n",
      "clearfraudscore                       678\n",
      "relativeCheckedFrequency              505\n",
      "dtype: int64\n"
     ]
    }
   ],
   "source": [
    "# Show the data types of each column of modeldf\n",
    "print(\"\\n------------Data Types-----------------\")\n",
    "print(modeldf.dtypes)\n",
    "print(\"\\n--------------Shape--------------------\")\n",
    "print(\"Shape:\", modeldf.shape)\n",
    "\n",
    "# Count missing values for each column\n",
    "print(\"\\n------------Missing Values-----------------\")\n",
    "print(modeldf.isnull().sum())\n",
    "\n",
    "# Count number of unique values for each column\n",
    "print(\"\\n------------Unique Values-----------------\")\n",
    "print(modeldf.nunique())"
   ]
  },
  {
   "attachments": {},
   "cell_type": "markdown",
   "metadata": {},
   "source": [
    "This is the final outline of dataset we will use for modelling.\n",
    "Now, we need to further preprocess it."
   ]
  },
  {
   "attachments": {},
   "cell_type": "markdown",
   "metadata": {},
   "source": [
    "## 2.5 Model Data Preprocessing"
   ]
  },
  {
   "attachments": {},
   "cell_type": "markdown",
   "metadata": {},
   "source": [
    "### 2.5.1 Encode Nominal Variables"
   ]
  },
  {
   "cell_type": "code",
   "execution_count": 30,
   "metadata": {},
   "outputs": [
    {
     "name": "stdout",
     "output_type": "stream",
     "text": [
      "\n",
      "------------Unique Values-----------------\n",
      "payFrequency : ['B' 'W' 'S' 'M' 'I']\n",
      "\n",
      "\n",
      "loanStatus : ['Paid Off Loan' 'Uncertain Loan' 'Defaulted Loan']\n",
      "\n",
      "\n",
      "state : ['CA' 'MO' 'NJ' 'WI' 'IL' 'MI' 'FL' 'SC' 'OH' 'NV' 'IN' 'VA' 'TN' 'OK'\n",
      " 'NC' 'TX' 'PA' 'HI' 'MS' 'KY' 'AL' 'GA' 'NM' 'ID' 'ND' 'AZ' 'CO' 'NE'\n",
      " 'SD' 'MN' 'LA' 'CT' 'WY' 'KS' 'DE' 'WA' 'UT' 'RI' 'IA' 'AK' 'MD']\n",
      "\n",
      "\n",
      "leadType : ['prescreen' 'organic' 'lead' 'bvMandatory' 'rc_returning' 'california'\n",
      " 'instant-offer' 'express' 'repeat' 'lionpay']\n",
      "\n",
      "\n",
      "fpStatus : ['Checked' 'Rejected' 'Skipped' 'Cancelled' 'None' 'Pending' 'Returned'\n",
      " 'No Payments']\n",
      "\n",
      "\n"
     ]
    }
   ],
   "source": [
    "nominal_variables = ['payFrequency', 'loanStatus', 'state', 'leadType', 'fpStatus']\n",
    "\n",
    "# Print unique values for each nominal variables\n",
    "print(\"\\n------------Unique Values-----------------\")\n",
    "for col in nominal_variables:\n",
    "    print(col, \":\", modeldf[col].unique())\n",
    "    print(\"\\n\")"
   ]
  },
  {
   "attachments": {},
   "cell_type": "markdown",
   "metadata": {},
   "source": [
    "Way to address nominal variables:  \n",
    "Nominal Target Variable:  \n",
    "- loanStatus: ['Paid Off Loan' 'Uncertain Loan' 'Defaulted Loan'] ---> [1 0 -1]  \n",
    "  \n",
    "Feature Variables  \n",
    "- payFrequency:\n",
    "    - Because ['B' 'W' 'S' 'M' 'I'] stand for\n",
    "        - B is biweekly payments\n",
    "        - I is irregular\n",
    "        - M is monthly\n",
    "        - S is semi monthly\n",
    "        - W is weekly\n",
    "    - Thus, we will use Ordinal Encoding with sequence [W, B, S, M, I] ---> [0, 1, 2, 3, 4]\n",
    "\n",
    "- state: we will OneHotEncode it.\n",
    "\n",
    "- leadtype: we will OneHotEncode it.\n",
    "\n",
    "- fpSatus: we will OneHotEncode it.\n"
   ]
  },
  {
   "cell_type": "code",
   "execution_count": 31,
   "metadata": {},
   "outputs": [],
   "source": [
    "# Nominal Target Variable  \n",
    "# convert loanStatus: ['Paid Off Loan' 'Uncertain Loan' 'Defaulted Loan'] ---> [1 0 -1]  \n",
    "modeldf['loanStatus'] = modeldf['loanStatus'].map({'Paid Off Loan': 1, 'Uncertain Loan': 0, 'Defaulted Loan': -1})\n",
    "\n",
    "# Feature Variables  \n",
    "# payFrequency\n",
    "# Ordinal Encode with sequence [W, B, S, M, I] ---> [0, 1, 2, 3, 4]\n",
    "modeldf['payFrequency'] = modeldf['payFrequency'].map({'W': 0, 'B': 1, 'S': 2, 'M': 3, 'I': 4})\n",
    "\n",
    "# OneHotEncode state\n",
    "modeldf = pd.get_dummies(modeldf, columns=['state'])\n",
    "\n",
    "# OneHotEncode leadtype\n",
    "modeldf = pd.get_dummies(modeldf, columns=['leadType'])\n",
    "\n",
    "# OneHotEncode fpSatus\n",
    "modeldf = pd.get_dummies(modeldf, columns=['fpStatus'])\n"
   ]
  },
  {
   "cell_type": "code",
   "execution_count": 32,
   "metadata": {},
   "outputs": [
    {
     "name": "stdout",
     "output_type": "stream",
     "text": [
      "modeldf columns:\n",
      " Index(['payFrequency', 'apr', 'nPaidOff', 'loanStatus', 'loanAmount',\n",
      "       'originallyScheduledPaymentAmount', 'leadCost', 'hasCF',\n",
      "       'clearfraudscore', 'relativeCheckedFrequency', 'state_AK', 'state_AL',\n",
      "       'state_AZ', 'state_CA', 'state_CO', 'state_CT', 'state_DE', 'state_FL',\n",
      "       'state_GA', 'state_HI', 'state_IA', 'state_ID', 'state_IL', 'state_IN',\n",
      "       'state_KS', 'state_KY', 'state_LA', 'state_MD', 'state_MI', 'state_MN',\n",
      "       'state_MO', 'state_MS', 'state_NC', 'state_ND', 'state_NE', 'state_NJ',\n",
      "       'state_NM', 'state_NV', 'state_OH', 'state_OK', 'state_PA', 'state_RI',\n",
      "       'state_SC', 'state_SD', 'state_TN', 'state_TX', 'state_UT', 'state_VA',\n",
      "       'state_WA', 'state_WI', 'state_WY', 'leadType_bvMandatory',\n",
      "       'leadType_california', 'leadType_express', 'leadType_instant-offer',\n",
      "       'leadType_lead', 'leadType_lionpay', 'leadType_organic',\n",
      "       'leadType_prescreen', 'leadType_rc_returning', 'leadType_repeat',\n",
      "       'fpStatus_Cancelled', 'fpStatus_Checked', 'fpStatus_No Payments',\n",
      "       'fpStatus_None', 'fpStatus_Pending', 'fpStatus_Rejected',\n",
      "       'fpStatus_Returned', 'fpStatus_Skipped'],\n",
      "      dtype='object')\n",
      "\n",
      "------------Data Types-----------------\n",
      "payFrequency           int64\n",
      "apr                  float64\n",
      "nPaidOff             float64\n",
      "loanStatus             int64\n",
      "loanAmount           float64\n",
      "                      ...   \n",
      "fpStatus_None           bool\n",
      "fpStatus_Pending        bool\n",
      "fpStatus_Rejected       bool\n",
      "fpStatus_Returned       bool\n",
      "fpStatus_Skipped        bool\n",
      "Length: 69, dtype: object\n"
     ]
    }
   ],
   "source": [
    "# Show all columns name of modeldf\n",
    "print(\"modeldf columns:\\n\", modeldf.columns)\n",
    "\n",
    "# Show all data types of modeldf\n",
    "print(\"\\n------------Data Types-----------------\")\n",
    "print(modeldf.dtypes)"
   ]
  },
  {
   "attachments": {},
   "cell_type": "markdown",
   "metadata": {},
   "source": [
    "### 2.5.2 Systhesize Target Variable\n",
    "Now we have 2 columns that can be used as target variables, which are *loanStatus* and *relativeCheckedFrequency*.  \n",
    "Thus, we need to combine them into 1 variable.  \n",
    "We are going to use fuzzy logic to combine them.  "
   ]
  },
  {
   "cell_type": "code",
   "execution_count": 33,
   "metadata": {},
   "outputs": [
    {
     "name": "stderr",
     "output_type": "stream",
     "text": [
      "/Users/ahdean/.pyenv/versions/3.11.3/lib/python3.11/site-packages/skfuzzy/control/fuzzyvariable.py:122: UserWarning: Matplotlib is currently using module://matplotlib_inline.backend_inline, which is a non-GUI backend, so cannot show the figure.\n",
      "  fig.show()\n"
     ]
    },
    {
     "data": {
      "image/png": "[encoded data removed]",
      "text/plain": [
       "<Figure size 640x480 with 1 Axes>"
      ]
     },
     "metadata": {},
     "output_type": "display_data"
    },
    {
     "data": {
      "image/png": "[encoded data removed]",
      "text/plain": [
       "<Figure size 640x480 with 1 Axes>"
      ]
     },
     "metadata": {},
     "output_type": "display_data"
    },
    {
     "data": {
      "image/png": "[encoded data removed]",
      "text/plain": [
       "<Figure size 640x480 with 1 Axes>"
      ]
     },
     "metadata": {},
     "output_type": "display_data"
    }
   ],
   "source": [
    "# Defining input variable \"loanStatus\"\n",
    "# ['Defaulted Loan' 'Paid Off Loan' 'Uncertain Loan'] = [-1, 1, 0]\n",
    "loanStatus = ctrl.Antecedent(np.arange(-1, 2, 1), 'loanStatus') # universe = [-1, 0, 1]\n",
    "loanStatus['Defaulted'] = fuzz.trimf(loanStatus.universe, [-1, -1, -0.5])\n",
    "loanStatus['Uncertain'] = fuzz.trimf(loanStatus.universe, [-0.5, 0, 0])\n",
    "loanStatus['Paid Off'] = fuzz.trimf(loanStatus.universe, [1, 1, 1])\n",
    "\n",
    "\n",
    "# relativeCheckedFrequency range from 0 to 1.\n",
    "relativeCheckedFrequency = ctrl.Antecedent(np.arange(0, 1.01, 0.01), 'relativeCheckedFrequency') # universe = [0,1]\n",
    "relativeCheckedFrequency['Low'] = fuzz.trapmf(relativeCheckedFrequency.universe, [0, 0, 0.2, 0.5])\n",
    "relativeCheckedFrequency['Medium'] = fuzz.trapmf(relativeCheckedFrequency.universe, [0.3,0.4, 0.6, 0.8])\n",
    "relativeCheckedFrequency['High'] = fuzz.trapmf(relativeCheckedFrequency.universe, [0.6,0.85, 1, 1])\n",
    "\n",
    "# Define output variable \"loanQuality\"\n",
    "loanQuality = ctrl.Consequent(np.arange(0,1,0.01), 'loanQuality')\n",
    "loanQuality['Bad'] = fuzz.trimf(loanQuality.universe, [0, 0, 0.5])\n",
    "loanQuality['Good'] = fuzz.trimf(loanQuality.universe, [0.5, 1, 1])\n",
    "\n",
    "# Visualize the membership function of loanStatus, relativeCheckedFrequency and loanQuality\n",
    "loanStatus.view()\n",
    "relativeCheckedFrequency.view()\n",
    "loanQuality.view()\n",
    "\n",
    "# Define fuzzy rules\n",
    "rule1 = ctrl.Rule(loanStatus['Defaulted']                                    ,    loanQuality['Bad']) # Defaulted a loan once, will be considered as a bad loan borrower\n",
    "rule2 = ctrl.Rule(loanStatus['Paid Off']    & relativeCheckedFrequency['Low'],    loanQuality['Bad']) # We assume this borrower had gone through hard times to pay off the loan\n",
    "rule3 = ctrl.Rule(loanStatus['Paid Off']    & relativeCheckedFrequency['High'],   loanQuality['Good']) \n",
    "rule4 = ctrl.Rule(loanStatus['Uncertain']   & relativeCheckedFrequency['Low'],    loanQuality['Bad'])\n",
    "rule5 = ctrl.Rule(loanStatus['Uncertain']   & relativeCheckedFrequency['High'],   loanQuality['Good'])\n",
    "rule6 = ctrl.Rule(loanStatus['Paid Off']   & relativeCheckedFrequency['Medium'],    loanQuality['Good']) # We still considered Good Loan because the borrower had paid off the loan eventually with acceptable checked repayment frequency.\n",
    "rule7 = ctrl.Rule(loanStatus['Uncertain']   & relativeCheckedFrequency['Medium'],    loanQuality['Bad']) # We considered Bad Loan (to be conservative) because the borrower was just only starting his repayment, but he is already showing bad credit.\n",
    "\n",
    "# Create control system with all 6 rules\n",
    "loanQuality_ctrl = ctrl.ControlSystem([rule1, rule2, rule3, rule4, rule5, rule6, rule7])\n",
    "\n",
    "# Create simulation\n",
    "loanQuality_sim = ctrl.ControlSystemSimulation(loanQuality_ctrl)\n"
   ]
  },
  {
   "cell_type": "code",
   "execution_count": 34,
   "metadata": {},
   "outputs": [
    {
     "name": "stdout",
     "output_type": "stream",
     "text": [
      "[0.16666666666666663, 0.16666666666666663, 0.16666666666666663, 0.16666666666666663, 0.16666666666666663, 0.16666666666666663, 0.16666666666666663, 0.16666666666666663, 0.16666666666666663, 0.16666666666666663]\n",
      "<class 'list'>\n",
      "<class 'list'>\n"
     ]
    },
    {
     "data": {
      "image/png": "[encoded data removed]",
      "text/plain": [
       "<Figure size 640x480 with 1 Axes>"
      ]
     },
     "metadata": {},
     "output_type": "display_data"
    }
   ],
   "source": [
    "# Visualize \n",
    "# Calculate the loanQuality with relativeCheckedFrequency range from 0 to 1 in a for loop with addition of 0.1\n",
    "loanQuality_Defaulted = []\n",
    "loanQuality_Uncertain = []\n",
    "loanQuality_Paid_Off = []\n",
    "relativeCheckedFrequency = [0.0, 0.1, 0.2, 0.3, 0.4, 0.5, 0.6, 0.8, 0.9, 1.0]\n",
    "\n",
    "for loanStatus_variable in [-1, 0, 1]:\n",
    "    for relativeCheckedFrequency_variable in np.arange(0, 1, 0.1):\n",
    "        loanQuality_sim.input['relativeCheckedFrequency'] = relativeCheckedFrequency_variable\n",
    "        loanQuality_sim.input['loanStatus'] = loanStatus_variable\n",
    "        # Perform the simulation\n",
    "        loanQuality_sim.compute()\n",
    "        # Collect the output\n",
    "        if (loanStatus_variable == -1):\n",
    "            loanQuality_Defaulted.append(loanQuality_sim.output['loanQuality'])\n",
    "        elif (loanStatus_variable == 0):\n",
    "            loanQuality_Uncertain.append(loanQuality_sim.output['loanQuality'])\n",
    "        else:\n",
    "            loanQuality_Paid_Off.append(loanQuality_sim.output['loanQuality'])\n",
    "\n",
    "print(loanQuality_Defaulted)\n",
    "print(type(loanQuality_Defaulted))\n",
    "print(type(relativeCheckedFrequency))\n",
    "\n",
    "# Plot 3 graphs in one figure\n",
    "plt.plot(relativeCheckedFrequency, np.array(loanQuality_Defaulted), label='Defaulted')\n",
    "plt.plot(relativeCheckedFrequency, np.array(loanQuality_Uncertain), label='Uncertain')\n",
    "plt.plot(relativeCheckedFrequency, np.array(loanQuality_Paid_Off), label='Paid Off')\n",
    "plt.legend(title='Loan Status')\n",
    "plt.xlabel('relativeCheckedFrequency')\n",
    "plt.ylabel('loanQuality')\n",
    "plt.title('loanQuality vs relativeCheckedFrequency')\n",
    "plt.show()\n",
    "\n",
    "# # generate 3d surface plot\n",
    "# from mpl_toolkits.mplot3d import Axes3D\n",
    "# from matplotlib import cm\n",
    "\n",
    "# # Create a 3D figure\n",
    "# fig = plt.figure()\n",
    "# ax = fig.add_subplot(111, projection='3d')\n",
    "\n",
    "# # Create a meshgrid of the input variables\n",
    "# rf, ls = np.meshgrid(relativeCheckedFrequency, [-1, 0, 1])\n",
    "\n",
    "# # Evaluate the loanQuality for each combination of input variables\n",
    "# loanQuality = np.zeros_like(rf)\n",
    "# for i in range(len(relativeCheckedFrequency)):\n",
    "#     for j in range(3):\n",
    "#         loanQuality[i, j] = loanQuality_sim.output['loanQuality']\n",
    "\n",
    "# # Plot the surface\n",
    "# surf = ax.plot_surface(rf, ls, loanQuality, cmap=cm.coolwarm)\n",
    "\n",
    "# # Add labels and title\n",
    "# ax.set_xlabel('relativeCheckedFrequency')\n",
    "# ax.set_ylabel('loanStatus')\n",
    "# ax.set_zlabel('loanQuality')\n",
    "# ax.set_title('loanQuality vs relativeCheckedFrequency and loanStatus')\n",
    "\n",
    "# # Add a colorbar\n",
    "# fig.colorbar(surf)\n",
    "\n",
    "# # Show the plot\n",
    "# plt.show()\n",
    "\n",
    "\n",
    "\n",
    "\n",
    "\n",
    "\n"
   ]
  },
  {
   "attachments": {},
   "cell_type": "markdown",
   "metadata": {},
   "source": [
    "After building the fuzzy logic, we will use the fuzzy logic to synthesize the target variable and y."
   ]
  },
  {
   "cell_type": "code",
   "execution_count": 35,
   "metadata": {},
   "outputs": [
    {
     "name": "stderr",
     "output_type": "stream",
     "text": [
      "/var/folders/4g/jfvz9fnd7blddks5n_g5qm3r0000gn/T/ipykernel_40223/3570018362.py:4: SettingWithCopyWarning: \n",
      "A value is trying to be set on a copy of a slice from a DataFrame.\n",
      "Try using .loc[row_indexer,col_indexer] = value instead\n",
      "\n",
      "See the caveats in the documentation: https://pandas.pydata.org/pandas-docs/stable/user_guide/indexing.html#returning-a-view-versus-a-copy\n",
      "  y['loanQuality'] = 0.0\n"
     ]
    },
    {
     "data": {
      "text/html": [
       "<div>\n",
       "<style scoped>\n",
       "    .dataframe tbody tr th:only-of-type {\n",
       "        vertical-align: middle;\n",
       "    }\n",
       "\n",
       "    .dataframe tbody tr th {\n",
       "        vertical-align: top;\n",
       "    }\n",
       "\n",
       "    .dataframe thead th {\n",
       "        text-align: right;\n",
       "    }\n",
       "</style>\n",
       "<table border=\"1\" class=\"dataframe\">\n",
       "  <thead>\n",
       "    <tr style=\"text-align: right;\">\n",
       "      <th></th>\n",
       "      <th>loanStatus</th>\n",
       "      <th>relativeCheckedFrequency</th>\n",
       "      <th>loanQuality</th>\n",
       "    </tr>\n",
       "  </thead>\n",
       "  <tbody>\n",
       "    <tr>\n",
       "      <th>0</th>\n",
       "      <td>1</td>\n",
       "      <td>0.880000</td>\n",
       "      <td>0.826667</td>\n",
       "    </tr>\n",
       "    <tr>\n",
       "      <th>1</th>\n",
       "      <td>0</td>\n",
       "      <td>0.538462</td>\n",
       "      <td>0.166667</td>\n",
       "    </tr>\n",
       "    <tr>\n",
       "      <th>2</th>\n",
       "      <td>0</td>\n",
       "      <td>0.000000</td>\n",
       "      <td>0.166667</td>\n",
       "    </tr>\n",
       "    <tr>\n",
       "      <th>3</th>\n",
       "      <td>1</td>\n",
       "      <td>0.076923</td>\n",
       "      <td>0.166667</td>\n",
       "    </tr>\n",
       "    <tr>\n",
       "      <th>4</th>\n",
       "      <td>1</td>\n",
       "      <td>1.000000</td>\n",
       "      <td>0.826667</td>\n",
       "    </tr>\n",
       "    <tr>\n",
       "      <th>...</th>\n",
       "      <td>...</td>\n",
       "      <td>...</td>\n",
       "      <td>...</td>\n",
       "    </tr>\n",
       "    <tr>\n",
       "      <th>38959</th>\n",
       "      <td>1</td>\n",
       "      <td>0.214286</td>\n",
       "      <td>0.167027</td>\n",
       "    </tr>\n",
       "    <tr>\n",
       "      <th>38960</th>\n",
       "      <td>1</td>\n",
       "      <td>0.142857</td>\n",
       "      <td>0.166667</td>\n",
       "    </tr>\n",
       "    <tr>\n",
       "      <th>38961</th>\n",
       "      <td>1</td>\n",
       "      <td>1.000000</td>\n",
       "      <td>0.826667</td>\n",
       "    </tr>\n",
       "    <tr>\n",
       "      <th>38962</th>\n",
       "      <td>0</td>\n",
       "      <td>0.384615</td>\n",
       "      <td>0.170085</td>\n",
       "    </tr>\n",
       "    <tr>\n",
       "      <th>38963</th>\n",
       "      <td>1</td>\n",
       "      <td>0.037037</td>\n",
       "      <td>0.166667</td>\n",
       "    </tr>\n",
       "  </tbody>\n",
       "</table>\n",
       "<p>38964 rows × 3 columns</p>\n",
       "</div>"
      ],
      "text/plain": [
       "       loanStatus  relativeCheckedFrequency  loanQuality\n",
       "0               1                  0.880000     0.826667\n",
       "1               0                  0.538462     0.166667\n",
       "2               0                  0.000000     0.166667\n",
       "3               1                  0.076923     0.166667\n",
       "4               1                  1.000000     0.826667\n",
       "...           ...                       ...          ...\n",
       "38959           1                  0.214286     0.167027\n",
       "38960           1                  0.142857     0.166667\n",
       "38961           1                  1.000000     0.826667\n",
       "38962           0                  0.384615     0.170085\n",
       "38963           1                  0.037037     0.166667\n",
       "\n",
       "[38964 rows x 3 columns]"
      ]
     },
     "execution_count": 35,
     "metadata": {},
     "output_type": "execute_result"
    }
   ],
   "source": [
    "# For modeldf, we will create a new column \"loanQuality\" to store the fuzzy output\n",
    "# Then we will calculate each rows \"loanQuality\" by using \"loanStatus\" and \"relativeCheckedFrequency\" as input\n",
    "y = modeldf[['loanStatus','relativeCheckedFrequency']]\n",
    "y['loanQuality'] = 0.0\n",
    "\n",
    "for index, row in y.iterrows():\n",
    "    loanQuality_sim.input['relativeCheckedFrequency'] = row['relativeCheckedFrequency']\n",
    "    loanQuality_sim.input['loanStatus'] = row['loanStatus']\n",
    "    loanQuality_sim.compute()\n",
    "    y.at[index, 'loanQuality'] = loanQuality_sim.output['loanQuality']\n",
    "\n",
    "# Show y with loanStatus -1\n",
    "y"
   ]
  },
  {
   "attachments": {},
   "cell_type": "markdown",
   "metadata": {},
   "source": [
    "### 2.5.3 Prepare X and y "
   ]
  },
  {
   "cell_type": "code",
   "execution_count": 36,
   "metadata": {},
   "outputs": [
    {
     "name": "stdout",
     "output_type": "stream",
     "text": [
      "None\n",
      "       loanQuality\n",
      "0         0.826667\n",
      "1         0.166667\n",
      "2         0.166667\n",
      "3         0.166667\n",
      "4         0.826667\n",
      "...            ...\n",
      "38959     0.167027\n",
      "38960     0.166667\n",
      "38961     0.826667\n",
      "38962     0.170085\n",
      "38963     0.166667\n",
      "\n",
      "[38964 rows x 1 columns]\n"
     ]
    },
    {
     "name": "stderr",
     "output_type": "stream",
     "text": [
      "/var/folders/4g/jfvz9fnd7blddks5n_g5qm3r0000gn/T/ipykernel_40223/1076382228.py:2: SettingWithCopyWarning: \n",
      "A value is trying to be set on a copy of a slice from a DataFrame\n",
      "\n",
      "See the caveats in the documentation: https://pandas.pydata.org/pandas-docs/stable/user_guide/indexing.html#returning-a-view-versus-a-copy\n",
      "  y.drop(['loanStatus', 'relativeCheckedFrequency'], axis=1, inplace=True)\n"
     ]
    }
   ],
   "source": [
    "# Drop loanStatus and relativeCheckedFrequency columns, left only loanQuality column as the final target variable\n",
    "y.drop(['loanStatus', 'relativeCheckedFrequency'], axis=1, inplace=True)\n",
    "\n",
    "X = modeldf.drop(['loanStatus', 'relativeCheckedFrequency'], axis=1, inplace=True)\n",
    "\n",
    "print(X)\n",
    "print(y)"
   ]
  },
  {
   "attachments": {},
   "cell_type": "markdown",
   "metadata": {},
   "source": [
    "### 2.5.4 Train Test Split"
   ]
  },
  {
   "cell_type": "code",
   "execution_count": 37,
   "metadata": {},
   "outputs": [],
   "source": [
    "# split X and y as train and test set 80% and 20% respectively\n",
    "X_train, X_test, y_train, y_test = train_test_split(modeldf, y, test_size=0.2, random_state=42)\n"
   ]
  },
  {
   "attachments": {},
   "cell_type": "markdown",
   "metadata": {},
   "source": [
    "# Data Modeling"
   ]
  },
  {
   "attachments": {},
   "cell_type": "markdown",
   "metadata": {},
   "source": [
    "## DT REGRESSOR, SVR, GBR, NN, RF"
   ]
  },
  {
   "cell_type": "code",
   "execution_count": 38,
   "metadata": {},
   "outputs": [
    {
     "name": "stdout",
     "output_type": "stream",
     "text": [
      "Decision Tree Regressor RMSE: 0.3112252575030789\n"
     ]
    },
    {
     "name": "stderr",
     "output_type": "stream",
     "text": [
      "/Users/ahdean/.pyenv/versions/3.11.3/lib/python3.11/site-packages/sklearn/utils/validation.py:1143: DataConversionWarning: A column-vector y was passed when a 1d array was expected. Please change the shape of y to (n_samples, ), for example using ravel().\n",
      "  y = column_or_1d(y, warn=True)\n"
     ]
    },
    {
     "name": "stdout",
     "output_type": "stream",
     "text": [
      "SVR RMSE: 0.252290375649619\n"
     ]
    },
    {
     "name": "stderr",
     "output_type": "stream",
     "text": [
      "/Users/ahdean/.pyenv/versions/3.11.3/lib/python3.11/site-packages/sklearn/ensemble/_gb.py:437: DataConversionWarning: A column-vector y was passed when a 1d array was expected. Please change the shape of y to (n_samples, ), for example using ravel().\n",
      "  y = column_or_1d(y, warn=True)\n"
     ]
    },
    {
     "name": "stdout",
     "output_type": "stream",
     "text": [
      "Gradient Boosting Regressors RMSE: 0.2280285909574396\n"
     ]
    },
    {
     "name": "stderr",
     "output_type": "stream",
     "text": [
      "/Users/ahdean/.pyenv/versions/3.11.3/lib/python3.11/site-packages/sklearn/neural_network/_multilayer_perceptron.py:1623: DataConversionWarning: A column-vector y was passed when a 1d array was expected. Please change the shape of y to (n_samples, ), for example using ravel().\n",
      "  y = column_or_1d(y, warn=True)\n"
     ]
    },
    {
     "name": "stdout",
     "output_type": "stream",
     "text": [
      "Neural Network RMSE: 0.471101580626566\n"
     ]
    },
    {
     "name": "stderr",
     "output_type": "stream",
     "text": [
      "/var/folders/4g/jfvz9fnd7blddks5n_g5qm3r0000gn/T/ipykernel_40223/689483169.py:10: DataConversionWarning: A column-vector y was passed when a 1d array was expected. Please change the shape of y to (n_samples,), for example using ravel().\n",
      "  model.fit(X_train, y_train)\n"
     ]
    },
    {
     "name": "stdout",
     "output_type": "stream",
     "text": [
      "Random Forest Regressor RMSE: 0.23580076850873635\n"
     ]
    }
   ],
   "source": [
    "# Initialize models\n",
    "models = {'Decision Tree Regressor': DecisionTreeRegressor(random_state=11),\n",
    "          'SVR': SVR(kernel='rbf'),\n",
    "          'Gradient Boosting Regressors': GradientBoostingRegressor(random_state=0),\n",
    "          'Neural Network': MLPRegressor(max_iter=1000, random_state=11),\n",
    "          'Random Forest Regressor': RandomForestRegressor(random_state=11)\n",
    "          }\n",
    "for name, model in models.items():\n",
    "    # Fit models to train \n",
    "    model.fit(X_train, y_train)\n",
    "    # predict on test set\n",
    "    y_pred = model.predict(X_test)\n",
    "    # Calculate root mean squared error\n",
    "    mse = mean_squared_error(y_test, y_pred)\n",
    "    rmse = np.sqrt(mse)\n",
    "    print(f'{name} RMSE: {rmse}')\n",
    "    # Plot the resulting ROC graph & calculate AUC    "
   ]
  },
  {
   "attachments": {},
   "cell_type": "markdown",
   "metadata": {},
   "source": [
    "## Deep Learning Model"
   ]
  },
  {
   "cell_type": "code",
   "execution_count": 40,
   "metadata": {},
   "outputs": [
    {
     "name": "stderr",
     "output_type": "stream",
     "text": [
      "WARNING:absl:At this time, the v2.11+ optimizer `tf.keras.optimizers.Adam` runs slowly on M1/M2 Macs, please use the legacy Keras optimizer instead, located at `tf.keras.optimizers.legacy.Adam`.\n",
      "WARNING:absl:There is a known slowdown when using v2.11+ Keras optimizers on M1/M2 Macs. Falling back to the legacy Keras optimizer, i.e., `tf.keras.optimizers.legacy.Adam`.\n"
     ]
    },
    {
     "name": "stdout",
     "output_type": "stream",
     "text": [
      "Epoch 1/50\n",
      "3118/3118 [==============================] - 2s 425us/step - loss: 146.4851\n",
      "Epoch 2/50\n",
      "3118/3118 [==============================] - 1s 420us/step - loss: 9.8269\n",
      "Epoch 3/50\n",
      "3118/3118 [==============================] - 1s 407us/step - loss: 5.4017\n",
      "Epoch 4/50\n",
      "3118/3118 [==============================] - 1s 401us/step - loss: 5.3102\n",
      "Epoch 5/50\n",
      "3118/3118 [==============================] - 1s 402us/step - loss: 2.6387\n",
      "Epoch 6/50\n",
      "3118/3118 [==============================] - 1s 403us/step - loss: 1.9028\n",
      "Epoch 7/50\n",
      "3118/3118 [==============================] - 1s 418us/step - loss: 1.2849\n",
      "Epoch 8/50\n",
      "3118/3118 [==============================] - 1s 405us/step - loss: 1.1538\n",
      "Epoch 9/50\n",
      "3118/3118 [==============================] - 1s 399us/step - loss: 0.4832\n",
      "Epoch 10/50\n",
      "3118/3118 [==============================] - 1s 402us/step - loss: 0.7803\n",
      "Epoch 11/50\n",
      "3118/3118 [==============================] - 1s 406us/step - loss: 0.3155\n",
      "Epoch 12/50\n",
      "3118/3118 [==============================] - 1s 402us/step - loss: 0.1379\n",
      "Epoch 13/50\n",
      "3118/3118 [==============================] - 1s 406us/step - loss: 0.0781\n",
      "Epoch 14/50\n",
      "3118/3118 [==============================] - 1s 436us/step - loss: 0.0665\n",
      "Epoch 15/50\n",
      "3118/3118 [==============================] - 1s 425us/step - loss: 0.0635\n",
      "Epoch 16/50\n",
      "3118/3118 [==============================] - 1s 406us/step - loss: 0.0636\n",
      "Epoch 17/50\n",
      "3118/3118 [==============================] - 1s 472us/step - loss: 0.0636\n",
      "Epoch 18/50\n",
      "3118/3118 [==============================] - 1s 409us/step - loss: 0.0636\n",
      "Epoch 19/50\n",
      "3118/3118 [==============================] - 1s 408us/step - loss: 0.0636\n",
      "Epoch 20/50\n",
      "3118/3118 [==============================] - 1s 409us/step - loss: 0.0636\n",
      "Epoch 21/50\n",
      "3118/3118 [==============================] - 1s 408us/step - loss: 0.0636\n",
      "Epoch 22/50\n",
      "3118/3118 [==============================] - 1s 427us/step - loss: 0.0636\n",
      "Epoch 23/50\n",
      "3118/3118 [==============================] - 1s 407us/step - loss: 0.0636\n",
      "Epoch 24/50\n",
      "3118/3118 [==============================] - 1s 409us/step - loss: 0.0635\n",
      "Epoch 25/50\n",
      "3118/3118 [==============================] - 1s 419us/step - loss: 0.0636\n",
      "Epoch 26/50\n",
      "3118/3118 [==============================] - 1s 405us/step - loss: 0.0635\n",
      "Epoch 27/50\n",
      "3118/3118 [==============================] - 1s 405us/step - loss: 0.0635\n",
      "Epoch 28/50\n",
      "3118/3118 [==============================] - 1s 401us/step - loss: 0.0636\n",
      "Epoch 29/50\n",
      "3118/3118 [==============================] - 1s 408us/step - loss: 0.0635\n",
      "Epoch 30/50\n",
      "3118/3118 [==============================] - 1s 462us/step - loss: 0.0635\n",
      "Epoch 31/50\n",
      "3118/3118 [==============================] - 1s 407us/step - loss: 0.0635\n",
      "Epoch 32/50\n",
      "3118/3118 [==============================] - 1s 413us/step - loss: 0.0635\n",
      "Epoch 33/50\n",
      "3118/3118 [==============================] - 1s 411us/step - loss: 0.0636\n",
      "Epoch 34/50\n",
      "3118/3118 [==============================] - 1s 410us/step - loss: 0.0635\n",
      "Epoch 35/50\n",
      "3118/3118 [==============================] - 1s 409us/step - loss: 0.0636\n",
      "Epoch 36/50\n",
      "3118/3118 [==============================] - 1s 409us/step - loss: 0.0635\n",
      "Epoch 37/50\n",
      "3118/3118 [==============================] - 1s 433us/step - loss: 0.0635\n",
      "Epoch 38/50\n",
      "3118/3118 [==============================] - 1s 408us/step - loss: 0.0635\n",
      "Epoch 39/50\n",
      "3118/3118 [==============================] - 1s 407us/step - loss: 0.0635\n",
      "Epoch 40/50\n",
      "3118/3118 [==============================] - 1s 411us/step - loss: 0.0635\n",
      "Epoch 41/50\n",
      "3118/3118 [==============================] - 1s 407us/step - loss: 0.0635\n",
      "Epoch 42/50\n",
      "3118/3118 [==============================] - 1s 409us/step - loss: 0.0635\n",
      "Epoch 43/50\n",
      "3118/3118 [==============================] - 1s 409us/step - loss: 0.0635\n",
      "Epoch 44/50\n",
      "3118/3118 [==============================] - 1s 427us/step - loss: 0.0635\n",
      "Epoch 45/50\n",
      "3118/3118 [==============================] - 1s 408us/step - loss: 0.0635\n",
      "Epoch 46/50\n",
      "3118/3118 [==============================] - 1s 408us/step - loss: 0.0635\n",
      "Epoch 47/50\n",
      "3118/3118 [==============================] - 1s 412us/step - loss: 0.0635\n",
      "Epoch 48/50\n",
      "3118/3118 [==============================] - 1s 408us/step - loss: 0.0635\n",
      "Epoch 49/50\n",
      "3118/3118 [==============================] - 1s 408us/step - loss: 0.0635\n",
      "Epoch 50/50\n",
      "3118/3118 [==============================] - 1s 413us/step - loss: 0.0635\n",
      "244/244 [==============================] - 0s 271us/step\n",
      "Root Mean Squared Error for Deep Learning model: 0.25130772590637207\n"
     ]
    }
   ],
   "source": [
    "# Ensure the data is in the right format (numpy array)\n",
    "X_train_np = np.array(X_train)\n",
    "y_train_np = np.array(y_train)\n",
    "X_test_np = np.array(X_test)\n",
    "y_test_np = np.array(y_test)\n",
    "X_train_np = X_train_np.astype('float32')\n",
    "y_train_np = y_train_np.astype('float32')\n",
    "X_test_np = X_test_np.astype('float32')\n",
    "y_test_np = y_test_np.astype('float32')\n",
    "\n",
    "# Define the model\n",
    "dl_model = Sequential()\n",
    "dl_model.add(Dense(32, input_dim=X_train_np.shape[1], activation='relu'))  # Input layer\n",
    "dl_model.add(Dense(16, activation='relu'))  # Hidden layer\n",
    "dl_model.add(Dense(1))  # Output layer\n",
    "\n",
    "# Compile the model\n",
    "dl_model.compile(loss='mean_squared_error', optimizer=Adam())\n",
    "\n",
    "# Train the model\n",
    "dl_model.fit(X_train_np, y_train_np, epochs=50, batch_size=10, verbose=1)\n",
    "\n",
    "# Predict on the test set\n",
    "y_pred_dl = dl_model.predict(X_test_np)\n",
    "\n",
    "# Calculate RMSE\n",
    "mse_dl = mean_squared_error(y_test_np, y_pred_dl)\n",
    "rmse_dl = np.sqrt(mse_dl)\n",
    "\n",
    "print(f'Root Mean Squared Error for Deep Learning model: {rmse_dl}')"
   ]
  },
  {
   "attachments": {},
   "cell_type": "markdown",
   "metadata": {},
   "source": [
    "Thus, we will use Gradient Boosting Regressors as it has the lowest RMSE."
   ]
  },
  {
   "attachments": {},
   "cell_type": "markdown",
   "metadata": {},
   "source": [
    "# Model Evaluation"
   ]
  },
  {
   "attachments": {},
   "cell_type": "markdown",
   "metadata": {},
   "source": [
    "# Visual Feature Importance"
   ]
  },
  {
   "cell_type": "code",
   "execution_count": 44,
   "metadata": {},
   "outputs": [
    {
     "name": "stderr",
     "output_type": "stream",
     "text": [
      "/Users/ahdean/.pyenv/versions/3.11.3/lib/python3.11/site-packages/sklearn/ensemble/_gb.py:437: DataConversionWarning: A column-vector y was passed when a 1d array was expected. Please change the shape of y to (n_samples, ), for example using ravel().\n",
      "  y = column_or_1d(y, warn=True)\n"
     ]
    },
    {
     "data": {
      "text/html": [
       "<style>#sk-container-id-1 {color: black;background-color: white;}#sk-container-id-1 pre{padding: 0;}#sk-container-id-1 div.sk-toggleable {background-color: white;}#sk-container-id-1 label.sk-toggleable__label {cursor: pointer;display: block;width: 100%;margin-bottom: 0;padding: 0.3em;box-sizing: border-box;text-align: center;}#sk-container-id-1 label.sk-toggleable__label-arrow:before {content: \"▸\";float: left;margin-right: 0.25em;color: #696969;}#sk-container-id-1 label.sk-toggleable__label-arrow:hover:before {color: black;}#sk-container-id-1 div.sk-estimator:hover label.sk-toggleable__label-arrow:before {color: black;}#sk-container-id-1 div.sk-toggleable__content {max-height: 0;max-width: 0;overflow: hidden;text-align: left;background-color: #f0f8ff;}#sk-container-id-1 div.sk-toggleable__content pre {margin: 0.2em;color: black;border-radius: 0.25em;background-color: #f0f8ff;}#sk-container-id-1 input.sk-toggleable__control:checked~div.sk-toggleable__content {max-height: 200px;max-width: 100%;overflow: auto;}#sk-container-id-1 input.sk-toggleable__control:checked~label.sk-toggleable__label-arrow:before {content: \"▾\";}#sk-container-id-1 div.sk-estimator input.sk-toggleable__control:checked~label.sk-toggleable__label {background-color: #d4ebff;}#sk-container-id-1 div.sk-label input.sk-toggleable__control:checked~label.sk-toggleable__label {background-color: #d4ebff;}#sk-container-id-1 input.sk-hidden--visually {border: 0;clip: rect(1px 1px 1px 1px);clip: rect(1px, 1px, 1px, 1px);height: 1px;margin: -1px;overflow: hidden;padding: 0;position: absolute;width: 1px;}#sk-container-id-1 div.sk-estimator {font-family: monospace;background-color: #f0f8ff;border: 1px dotted black;border-radius: 0.25em;box-sizing: border-box;margin-bottom: 0.5em;}#sk-container-id-1 div.sk-estimator:hover {background-color: #d4ebff;}#sk-container-id-1 div.sk-parallel-item::after {content: \"\";width: 100%;border-bottom: 1px solid gray;flex-grow: 1;}#sk-container-id-1 div.sk-label:hover label.sk-toggleable__label {background-color: #d4ebff;}#sk-container-id-1 div.sk-serial::before {content: \"\";position: absolute;border-left: 1px solid gray;box-sizing: border-box;top: 0;bottom: 0;left: 50%;z-index: 0;}#sk-container-id-1 div.sk-serial {display: flex;flex-direction: column;align-items: center;background-color: white;padding-right: 0.2em;padding-left: 0.2em;position: relative;}#sk-container-id-1 div.sk-item {position: relative;z-index: 1;}#sk-container-id-1 div.sk-parallel {display: flex;align-items: stretch;justify-content: center;background-color: white;position: relative;}#sk-container-id-1 div.sk-item::before, #sk-container-id-1 div.sk-parallel-item::before {content: \"\";position: absolute;border-left: 1px solid gray;box-sizing: border-box;top: 0;bottom: 0;left: 50%;z-index: -1;}#sk-container-id-1 div.sk-parallel-item {display: flex;flex-direction: column;z-index: 1;position: relative;background-color: white;}#sk-container-id-1 div.sk-parallel-item:first-child::after {align-self: flex-end;width: 50%;}#sk-container-id-1 div.sk-parallel-item:last-child::after {align-self: flex-start;width: 50%;}#sk-container-id-1 div.sk-parallel-item:only-child::after {width: 0;}#sk-container-id-1 div.sk-dashed-wrapped {border: 1px dashed gray;margin: 0 0.4em 0.5em 0.4em;box-sizing: border-box;padding-bottom: 0.4em;background-color: white;}#sk-container-id-1 div.sk-label label {font-family: monospace;font-weight: bold;display: inline-block;line-height: 1.2em;}#sk-container-id-1 div.sk-label-container {text-align: center;}#sk-container-id-1 div.sk-container {/* jupyter's `normalize.less` sets `[hidden] { display: none; }` but bootstrap.min.css set `[hidden] { display: none !important; }` so we also need the `!important` here to be able to override the default hidden behavior on the sphinx rendered scikit-learn.org. See: https://github.com/scikit-learn/scikit-learn/issues/21755 */display: inline-block !important;position: relative;}#sk-container-id-1 div.sk-text-repr-fallback {display: none;}</style><div id=\"sk-container-id-1\" class=\"sk-top-container\"><div class=\"sk-text-repr-fallback\"><pre>GradientBoostingRegressor(random_state=0)</pre><b>In a Jupyter environment, please rerun this cell to show the HTML representation or trust the notebook. <br />On GitHub, the HTML representation is unable to render, please try loading this page with nbviewer.org.</b></div><div class=\"sk-container\" hidden><div class=\"sk-item\"><div class=\"sk-estimator sk-toggleable\"><input class=\"sk-toggleable__control sk-hidden--visually\" id=\"sk-estimator-id-1\" type=\"checkbox\" checked><label for=\"sk-estimator-id-1\" class=\"sk-toggleable__label sk-toggleable__label-arrow\">GradientBoostingRegressor</label><div class=\"sk-toggleable__content\"><pre>GradientBoostingRegressor(random_state=0)</pre></div></div></div></div></div>"
      ],
      "text/plain": [
       "GradientBoostingRegressor(random_state=0)"
      ]
     },
     "execution_count": 44,
     "metadata": {},
     "output_type": "execute_result"
    }
   ],
   "source": [
    "\n",
    "# Initialize the model\n",
    "model = GradientBoostingRegressor(random_state=0)\n",
    "\n",
    "# Fit the model\n",
    "model.fit(X_train, y_train)"
   ]
  },
  {
   "cell_type": "code",
   "execution_count": 45,
   "metadata": {},
   "outputs": [
    {
     "data": {
      "image/png": "[encoded data removed]",
      "text/plain": [
       "<Figure size 1200x800 with 1 Axes>"
      ]
     },
     "metadata": {},
     "output_type": "display_data"
    }
   ],
   "source": [
    "# Visualizing the feature importances of Gradient Boosting Regressor\n",
    "# Get the feature importances\n",
    "importances = model.feature_importances_\n",
    "\n",
    "# Get the indices of the largest to smallest feature importances\n",
    "sorted_index = np.argsort(importances)[::-1]\n",
    "x = range(len(importances))\n",
    "\n",
    "# Create tick labels\n",
    "labels = np.array(X_train.columns)[sorted_index]\n",
    "plt.bar(x, importances[sorted_index], tick_label=labels)\n",
    "\n",
    "# Rotate tick labels to vertical\n",
    "plt.xticks(rotation=90)\n",
    "\n",
    "# Increase the size of the plot\n",
    "plt.rcParams['figure.figsize'] = (12, 20)\n",
    "\n",
    "plt.show()"
   ]
  }
 ],
 "metadata": {
  "kernelspec": {
   "display_name": "Python 3",
   "language": "python",
   "name": "python3"
  },
  "language_info": {
   "codemirror_mode": {
    "name": "ipython",
    "version": 3
   },
   "file_extension": ".py",
   "mimetype": "text/x-python",
   "name": "python",
   "nbconvert_exporter": "python",
   "pygments_lexer": "ipython3",
   "version": "3.11.3"
  },
  "orig_nbformat": 4
 },
 "nbformat": 4,
 "nbformat_minor": 2
}
