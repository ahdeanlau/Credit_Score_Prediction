{
 "cells": [
  {
   "attachments": {},
   "cell_type": "markdown",
   "metadata": {},
   "source": [
    "# Import Libraries"
   ]
  },
  {
   "cell_type": "code",
   "execution_count": 32,
   "metadata": {},
   "outputs": [],
   "source": [
    "import data\n",
    "import pandas as pd\n",
    "import numpy as np\n",
    "import matplotlib.pyplot as plt\n",
    "import seaborn as sns\n",
    "import os"
   ]
  },
  {
   "attachments": {},
   "cell_type": "markdown",
   "metadata": {},
   "source": [
    "# Import Datasets\n",
    "\n",
    "*payment.csv*     : **paymentdf**  \n",
    "*loan.csv*        : **loandf**   \n",
    "*clarity_underwriting_variables.csv* : **claritydf**  "
   ]
  },
  {
   "cell_type": "code",
   "execution_count": 33,
   "metadata": {},
   "outputs": [],
   "source": [
    "subdirectory = \"data\"\n",
    "payment_path = os.path.join(subdirectory, \"payment.csv\")\n",
    "loan_path = os.path.join(subdirectory, \"loan.csv\")\n",
    "clarity_path = os.path.join(subdirectory, \"clarity_underwriting_variables.csv\")"
   ]
  },
  {
   "cell_type": "code",
   "execution_count": 34,
   "metadata": {},
   "outputs": [
    {
     "name": "stderr",
     "output_type": "stream",
     "text": [
      "/var/folders/4g/jfvz9fnd7blddks5n_g5qm3r0000gn/T/ipykernel_59902/3373870957.py:1: DtypeWarning: Columns (9,11,12,13,14,15,16,17,18,19,20,21,22,23,25,26,27,28,29,31,32,33,36,37) have mixed types. Specify dtype option on import or set low_memory=False.\n",
      "  claritydf = pd.read_csv(clarity_path)\n"
     ]
    }
   ],
   "source": [
    "paymentdf = pd.read_csv(payment_path)\n",
    "loandf = pd.read_csv(loan_path)\n",
    "claritydf = pd.read_csv(clarity_path)\n"
   ]
  },
  {
   "attachments": {},
   "cell_type": "markdown",
   "metadata": {},
   "source": [
    "# Explore Data"
   ]
  },
  {
   "cell_type": "code",
   "execution_count": 49,
   "metadata": {},
   "outputs": [
    {
     "name": "stdout",
     "output_type": "stream",
     "text": [
      "paymentdf columns:\n",
      " Index(['loanId', 'installmentIndex', 'isCollection', 'paymentDate',\n",
      "       'principal', 'fees', 'paymentAmount', 'paymentStatus',\n",
      "       'paymentReturnCode'],\n",
      "      dtype='object')\n",
      "\n",
      "loandf columns:\n",
      " Index(['loanId', 'anon_ssn', 'payFrequency', 'apr', 'applicationDate',\n",
      "       'originated', 'originatedDate', 'nPaidOff', 'approved', 'isFunded',\n",
      "       'loanStatus', 'loanAmount', 'originallyScheduledPaymentAmount', 'state',\n",
      "       'leadType', 'leadCost', 'fpStatus', 'clarityFraudId', 'hasCF'],\n",
      "      dtype='object')\n",
      "\n",
      "claritydf columns:\n",
      " Index(['.underwritingdataclarity.clearfraud.clearfraudinquiry.thirtydaysago',\n",
      "       '.underwritingdataclarity.clearfraud.clearfraudinquiry.twentyfourhoursago',\n",
      "       '.underwritingdataclarity.clearfraud.clearfraudinquiry.oneminuteago',\n",
      "       '.underwritingdataclarity.clearfraud.clearfraudinquiry.onehourago',\n",
      "       '.underwritingdataclarity.clearfraud.clearfraudinquiry.ninetydaysago',\n",
      "       '.underwritingdataclarity.clearfraud.clearfraudinquiry.sevendaysago',\n",
      "       '.underwritingdataclarity.clearfraud.clearfraudinquiry.tenminutesago',\n",
      "       '.underwritingdataclarity.clearfraud.clearfraudinquiry.fifteendaysago',\n",
      "       '.underwritingdataclarity.clearfraud.clearfraudinquiry.threesixtyfivedaysago',\n",
      "       '.underwritingdataclarity.clearfraud.clearfraudindicator.inquiryonfilecurrentaddressconflict',\n",
      "       '.underwritingdataclarity.clearfraud.clearfraudindicator.totalnumberoffraudindicators',\n",
      "       '.underwritingdataclarity.clearfraud.clearfraudindicator.telephonenumberinconsistentwithaddress',\n",
      "       '.underwritingdataclarity.clearfraud.clearfraudindicator.inquiryageyoungerthanssnissuedate',\n",
      "       '.underwritingdataclarity.clearfraud.clearfraudindicator.onfileaddresscautious',\n",
      "       '.underwritingdataclarity.clearfraud.clearfraudindicator.inquiryaddressnonresidential',\n",
      "       '.underwritingdataclarity.clearfraud.clearfraudindicator.onfileaddresshighrisk',\n",
      "       '.underwritingdataclarity.clearfraud.clearfraudindicator.ssnreportedmorefrequentlyforanother',\n",
      "       '.underwritingdataclarity.clearfraud.clearfraudindicator.currentaddressreportedbytradeopenlt90days',\n",
      "       '.underwritingdataclarity.clearfraud.clearfraudindicator.inputssninvalid',\n",
      "       '.underwritingdataclarity.clearfraud.clearfraudindicator.inputssnissuedatecannotbeverified',\n",
      "       '.underwritingdataclarity.clearfraud.clearfraudindicator.inquiryaddresscautious',\n",
      "       '.underwritingdataclarity.clearfraud.clearfraudindicator.morethan3inquiriesinthelast30days',\n",
      "       '.underwritingdataclarity.clearfraud.clearfraudindicator.onfileaddressnonresidential',\n",
      "       '.underwritingdataclarity.clearfraud.clearfraudindicator.creditestablishedpriortossnissuedate',\n",
      "       '.underwritingdataclarity.clearfraud.clearfraudindicator.driverlicenseformatinvalid',\n",
      "       '.underwritingdataclarity.clearfraud.clearfraudindicator.inputssnrecordedasdeceased',\n",
      "       '.underwritingdataclarity.clearfraud.clearfraudindicator.inquiryaddresshighrisk',\n",
      "       '.underwritingdataclarity.clearfraud.clearfraudindicator.inquirycurrentaddressnotonfile',\n",
      "       '.underwritingdataclarity.clearfraud.clearfraudindicator.bestonfilessnissuedatecannotbeverified',\n",
      "       '.underwritingdataclarity.clearfraud.clearfraudindicator.highprobabilityssnbelongstoanother',\n",
      "       '.underwritingdataclarity.clearfraud.clearfraudindicator.maxnumberofssnswithanybankaccount',\n",
      "       '.underwritingdataclarity.clearfraud.clearfraudindicator.bestonfilessnrecordedasdeceased',\n",
      "       '.underwritingdataclarity.clearfraud.clearfraudindicator.currentaddressreportedbynewtradeonly',\n",
      "       '.underwritingdataclarity.clearfraud.clearfraudindicator.creditestablishedbeforeage18',\n",
      "       '.underwritingdataclarity.clearfraud.clearfraudindicator.telephonenumberinconsistentwithstate',\n",
      "       '.underwritingdataclarity.clearfraud.clearfraudindicator.driverlicenseinconsistentwithonfile',\n",
      "       '.underwritingdataclarity.clearfraud.clearfraudindicator.workphonepreviouslylistedascellphone',\n",
      "       '.underwritingdataclarity.clearfraud.clearfraudindicator.workphonepreviouslylistedashomephone',\n",
      "       '.underwritingdataclarity.clearfraud.clearfraudidentityverification.ssnnamematch',\n",
      "       '.underwritingdataclarity.clearfraud.clearfraudidentityverification.nameaddressmatch',\n",
      "       '.underwritingdataclarity.clearfraud.clearfraudidentityverification.phonematchtype',\n",
      "       '.underwritingdataclarity.clearfraud.clearfraudidentityverification.ssnnamereasoncodedescription',\n",
      "       '.underwritingdataclarity.clearfraud.clearfraudidentityverification.phonematchresult',\n",
      "       '.underwritingdataclarity.clearfraud.clearfraudidentityverification.nameaddressreasoncodedescription',\n",
      "       '.underwritingdataclarity.clearfraud.clearfraudidentityverification.phonematchtypedescription',\n",
      "       '.underwritingdataclarity.clearfraud.clearfraudidentityverification.overallmatchresult',\n",
      "       '.underwritingdataclarity.clearfraud.clearfraudidentityverification.phonetype',\n",
      "       '.underwritingdataclarity.clearfraud.clearfraudidentityverification.ssndobreasoncode',\n",
      "       '.underwritingdataclarity.clearfraud.clearfraudidentityverification.ssnnamereasoncode',\n",
      "       '.underwritingdataclarity.clearfraud.clearfraudidentityverification.nameaddressreasoncode',\n",
      "       '.underwritingdataclarity.clearfraud.clearfraudidentityverification.ssndobmatch',\n",
      "       '.underwritingdataclarity.clearfraud.clearfraudidentityverification.overallmatchreasoncode',\n",
      "       'clearfraudscore', 'underwritingid'],\n",
      "      dtype='object')\n"
     ]
    }
   ],
   "source": [
    "# Show all the columns name of each dataframe\n",
    "print(\"paymentdf columns:\\n\", paymentdf.columns)\n",
    "print(\"\\nloandf columns:\\n\", loandf.columns)\n",
    "print(\"\\nclaritydf columns:\\n\", claritydf.columns)"
   ]
  },
  {
   "cell_type": "code",
   "execution_count": 52,
   "metadata": {},
   "outputs": [
    {
     "name": "stdout",
     "output_type": "stream",
     "text": [
      "\n",
      "------------Data Types-----------------\n",
      "loanId                               object\n",
      "anon_ssn                             object\n",
      "payFrequency                         object\n",
      "apr                                 float64\n",
      "applicationDate                      object\n",
      "originated                             bool\n",
      "originatedDate                       object\n",
      "nPaidOff                            float64\n",
      "approved                               bool\n",
      "isFunded                              int64\n",
      "loanStatus                           object\n",
      "loanAmount                          float64\n",
      "originallyScheduledPaymentAmount    float64\n",
      "state                                object\n",
      "leadType                             object\n",
      "leadCost                              int64\n",
      "fpStatus                             object\n",
      "clarityFraudId                       object\n",
      "hasCF                                 int64\n",
      "dtype: object\n",
      "\n",
      "--------------Shape--------------------\n",
      "Shape: (577682, 19)\n",
      "\n",
      "------------Missing Values-----------------\n",
      "loanId                                 256\n",
      "anon_ssn                                 0\n",
      "payFrequency                          1273\n",
      "apr                                   3922\n",
      "applicationDate                          0\n",
      "originated                               0\n",
      "originatedDate                      531638\n",
      "nPaidOff                                24\n",
      "approved                                 0\n",
      "isFunded                                 0\n",
      "loanStatus                             391\n",
      "loanAmount                            2250\n",
      "originallyScheduledPaymentAmount         0\n",
      "state                                  132\n",
      "leadType                                 0\n",
      "leadCost                                 0\n",
      "fpStatus                            525959\n",
      "clarityFraudId                      219989\n",
      "hasCF                                    0\n",
      "dtype: int64\n",
      "\n",
      "------------Unique Values-----------------\n",
      "loanId                              577426\n",
      "anon_ssn                            459393\n",
      "payFrequency                             5\n",
      "apr                                    130\n",
      "applicationDate                     577624\n",
      "originated                               2\n",
      "originatedDate                       46042\n",
      "nPaidOff                                22\n",
      "approved                                 2\n",
      "isFunded                                 2\n",
      "loanStatus                              21\n",
      "loanAmount                             564\n",
      "originallyScheduledPaymentAmount     80784\n",
      "state                                   44\n",
      "leadType                                10\n",
      "leadCost                                15\n",
      "fpStatus                                 8\n",
      "clarityFraudId                      314915\n",
      "hasCF                                    2\n",
      "dtype: int64\n",
      "\n",
      "------------Summary-----------------\n",
      "                 apr       nPaidOff       isFunded     loanAmount   \n",
      "count  573760.000000  577658.000000  577682.000000  575432.000000  \\\n",
      "mean      553.080972       0.037887       0.067480     514.245084   \n",
      "std       110.046159       0.333366       0.250852     320.939929   \n",
      "min         0.000000       0.000000       0.000000       0.000000   \n",
      "25%       490.000000       0.000000       0.000000     350.000000   \n",
      "50%       590.000000       0.000000       0.000000     500.000000   \n",
      "75%       601.000000       0.000000       0.000000     500.000000   \n",
      "max       705.590000      21.000000       1.000000    5000.000000   \n",
      "\n",
      "       originallyScheduledPaymentAmount       leadCost          hasCF  \n",
      "count                     577682.000000  577682.000000  577682.000000  \n",
      "mean                        1428.897209       7.854389       0.619187  \n",
      "std                          925.009141      12.853451       0.485587  \n",
      "min                         -816.710000       0.000000       0.000000  \n",
      "25%                         1023.640000       3.000000       0.000000  \n",
      "50%                         1245.250000       3.000000       1.000000  \n",
      "75%                         1615.660000       6.000000       1.000000  \n",
      "max                        19963.630000     200.000000       1.000000  \n",
      "\n",
      "------------First 5 rows-----------------\n"
     ]
    },
    {
     "data": {
      "text/html": [
       "<div>\n",
       "<style scoped>\n",
       "    .dataframe tbody tr th:only-of-type {\n",
       "        vertical-align: middle;\n",
       "    }\n",
       "\n",
       "    .dataframe tbody tr th {\n",
       "        vertical-align: top;\n",
       "    }\n",
       "\n",
       "    .dataframe thead th {\n",
       "        text-align: right;\n",
       "    }\n",
       "</style>\n",
       "<table border=\"1\" class=\"dataframe\">\n",
       "  <thead>\n",
       "    <tr style=\"text-align: right;\">\n",
       "      <th></th>\n",
       "      <th>loanId</th>\n",
       "      <th>anon_ssn</th>\n",
       "      <th>payFrequency</th>\n",
       "      <th>apr</th>\n",
       "      <th>applicationDate</th>\n",
       "      <th>originated</th>\n",
       "      <th>originatedDate</th>\n",
       "      <th>nPaidOff</th>\n",
       "      <th>approved</th>\n",
       "      <th>isFunded</th>\n",
       "      <th>loanStatus</th>\n",
       "      <th>loanAmount</th>\n",
       "      <th>originallyScheduledPaymentAmount</th>\n",
       "      <th>state</th>\n",
       "      <th>leadType</th>\n",
       "      <th>leadCost</th>\n",
       "      <th>fpStatus</th>\n",
       "      <th>clarityFraudId</th>\n",
       "      <th>hasCF</th>\n",
       "    </tr>\n",
       "  </thead>\n",
       "  <tbody>\n",
       "    <tr>\n",
       "      <th>0</th>\n",
       "      <td>LL-I-07399092</td>\n",
       "      <td>beff4989be82aab4a5b47679216942fd</td>\n",
       "      <td>B</td>\n",
       "      <td>360.0</td>\n",
       "      <td>2016-02-23T17:29:01.940000</td>\n",
       "      <td>False</td>\n",
       "      <td>NaN</td>\n",
       "      <td>0.0</td>\n",
       "      <td>False</td>\n",
       "      <td>0</td>\n",
       "      <td>Withdrawn Application</td>\n",
       "      <td>500.0</td>\n",
       "      <td>978.27</td>\n",
       "      <td>IL</td>\n",
       "      <td>bvMandatory</td>\n",
       "      <td>6</td>\n",
       "      <td>NaN</td>\n",
       "      <td>5669ef78e4b0c9d3936440e6</td>\n",
       "      <td>1</td>\n",
       "    </tr>\n",
       "    <tr>\n",
       "      <th>1</th>\n",
       "      <td>LL-I-06644937</td>\n",
       "      <td>464f5d9ae4fa09ece4048d949191865c</td>\n",
       "      <td>B</td>\n",
       "      <td>199.0</td>\n",
       "      <td>2016-01-19T22:07:36.778000</td>\n",
       "      <td>True</td>\n",
       "      <td>2016-01-20T15:49:18.846000</td>\n",
       "      <td>0.0</td>\n",
       "      <td>True</td>\n",
       "      <td>1</td>\n",
       "      <td>Paid Off Loan</td>\n",
       "      <td>3000.0</td>\n",
       "      <td>6395.19</td>\n",
       "      <td>CA</td>\n",
       "      <td>prescreen</td>\n",
       "      <td>0</td>\n",
       "      <td>Checked</td>\n",
       "      <td>569eb3a3e4b096699f685d64</td>\n",
       "      <td>1</td>\n",
       "    </tr>\n",
       "    <tr>\n",
       "      <th>2</th>\n",
       "      <td>LL-I-10707532</td>\n",
       "      <td>3c174ae9e2505a5f9ddbff9843281845</td>\n",
       "      <td>B</td>\n",
       "      <td>590.0</td>\n",
       "      <td>2016-08-01T13:51:14.709000</td>\n",
       "      <td>False</td>\n",
       "      <td>NaN</td>\n",
       "      <td>0.0</td>\n",
       "      <td>False</td>\n",
       "      <td>0</td>\n",
       "      <td>Withdrawn Application</td>\n",
       "      <td>400.0</td>\n",
       "      <td>1199.45</td>\n",
       "      <td>MO</td>\n",
       "      <td>bvMandatory</td>\n",
       "      <td>3</td>\n",
       "      <td>NaN</td>\n",
       "      <td>579eab11e4b0d0502870ef2f</td>\n",
       "      <td>1</td>\n",
       "    </tr>\n",
       "    <tr>\n",
       "      <th>3</th>\n",
       "      <td>LL-I-02272596</td>\n",
       "      <td>9be6f443bb97db7e95fa0c281d34da91</td>\n",
       "      <td>B</td>\n",
       "      <td>360.0</td>\n",
       "      <td>2015-08-06T23:58:08.880000</td>\n",
       "      <td>False</td>\n",
       "      <td>NaN</td>\n",
       "      <td>0.0</td>\n",
       "      <td>False</td>\n",
       "      <td>0</td>\n",
       "      <td>Withdrawn Application</td>\n",
       "      <td>500.0</td>\n",
       "      <td>1074.05</td>\n",
       "      <td>IL</td>\n",
       "      <td>bvMandatory</td>\n",
       "      <td>3</td>\n",
       "      <td>NaN</td>\n",
       "      <td>555b1e95e4b0f6f11b267c18</td>\n",
       "      <td>1</td>\n",
       "    </tr>\n",
       "    <tr>\n",
       "      <th>4</th>\n",
       "      <td>LL-I-09542882</td>\n",
       "      <td>63b5494f60b5c19c827c7b068443752c</td>\n",
       "      <td>B</td>\n",
       "      <td>590.0</td>\n",
       "      <td>2016-06-05T22:31:34.304000</td>\n",
       "      <td>False</td>\n",
       "      <td>NaN</td>\n",
       "      <td>0.0</td>\n",
       "      <td>False</td>\n",
       "      <td>0</td>\n",
       "      <td>Rejected</td>\n",
       "      <td>350.0</td>\n",
       "      <td>814.37</td>\n",
       "      <td>NV</td>\n",
       "      <td>bvMandatory</td>\n",
       "      <td>3</td>\n",
       "      <td>NaN</td>\n",
       "      <td>5754a91be4b0c6a2bf424772</td>\n",
       "      <td>1</td>\n",
       "    </tr>\n",
       "  </tbody>\n",
       "</table>\n",
       "</div>"
      ],
      "text/plain": [
       "          loanId                          anon_ssn payFrequency    apr   \n",
       "0  LL-I-07399092  beff4989be82aab4a5b47679216942fd            B  360.0  \\\n",
       "1  LL-I-06644937  464f5d9ae4fa09ece4048d949191865c            B  199.0   \n",
       "2  LL-I-10707532  3c174ae9e2505a5f9ddbff9843281845            B  590.0   \n",
       "3  LL-I-02272596  9be6f443bb97db7e95fa0c281d34da91            B  360.0   \n",
       "4  LL-I-09542882  63b5494f60b5c19c827c7b068443752c            B  590.0   \n",
       "\n",
       "              applicationDate  originated              originatedDate   \n",
       "0  2016-02-23T17:29:01.940000       False                         NaN  \\\n",
       "1  2016-01-19T22:07:36.778000        True  2016-01-20T15:49:18.846000   \n",
       "2  2016-08-01T13:51:14.709000       False                         NaN   \n",
       "3  2015-08-06T23:58:08.880000       False                         NaN   \n",
       "4  2016-06-05T22:31:34.304000       False                         NaN   \n",
       "\n",
       "   nPaidOff  approved  isFunded             loanStatus  loanAmount   \n",
       "0       0.0     False         0  Withdrawn Application       500.0  \\\n",
       "1       0.0      True         1          Paid Off Loan      3000.0   \n",
       "2       0.0     False         0  Withdrawn Application       400.0   \n",
       "3       0.0     False         0  Withdrawn Application       500.0   \n",
       "4       0.0     False         0               Rejected       350.0   \n",
       "\n",
       "   originallyScheduledPaymentAmount state     leadType  leadCost fpStatus   \n",
       "0                            978.27    IL  bvMandatory         6      NaN  \\\n",
       "1                           6395.19    CA    prescreen         0  Checked   \n",
       "2                           1199.45    MO  bvMandatory         3      NaN   \n",
       "3                           1074.05    IL  bvMandatory         3      NaN   \n",
       "4                            814.37    NV  bvMandatory         3      NaN   \n",
       "\n",
       "             clarityFraudId  hasCF  \n",
       "0  5669ef78e4b0c9d3936440e6      1  \n",
       "1  569eb3a3e4b096699f685d64      1  \n",
       "2  579eab11e4b0d0502870ef2f      1  \n",
       "3  555b1e95e4b0f6f11b267c18      1  \n",
       "4  5754a91be4b0c6a2bf424772      1  "
      ]
     },
     "execution_count": 52,
     "metadata": {},
     "output_type": "execute_result"
    }
   ],
   "source": [
    "# Show the data types of each column of loandf\n",
    "print(\"\\n------------Data Types-----------------\")\n",
    "print(loandf.dtypes)\n",
    "print(\"\\n--------------Shape--------------------\")\n",
    "print(\"Shape:\", loandf.shape)\n",
    "\n",
    "# Count missing values for each column\n",
    "print(\"\\n------------Missing Values-----------------\")\n",
    "print(loandf.isnull().sum())\n",
    "\n",
    "# Count number of unique values for each column\n",
    "print(\"\\n------------Unique Values-----------------\")\n",
    "print(loandf.nunique())\n",
    "\n",
    "# loandf data summary\n",
    "print(\"\\n------------Summary-----------------\")\n",
    "print(loandf.describe())\n",
    "\n",
    "# Show the first 5 rows of loandf\n",
    "print(\"\\n------------First 5 rows-----------------\")\n",
    "loandf.head()"
   ]
  },
  {
   "attachments": {},
   "cell_type": "markdown",
   "metadata": {},
   "source": [
    "# Data Preprocessing"
   ]
  },
  {
   "attachments": {},
   "cell_type": "markdown",
   "metadata": {},
   "source": [
    "## Preprocess loandf / loan.csv   \n",
    "   \n",
    "Potentially unuseful columns\n",
    "- *originatedDate*\n",
    "    - Only include it, if we are considering the timeline application is submitted\n",
    "- *isFunded*\n",
    "    - The loan is ultimately funded depends on the willingness of candidates, thus, it does not affect the qualification of a candidate.\n",
    "\n",
    "Notes:\n",
    "- Consider relationship of *loanStatus* and *approved* \n",
    "    - Even though the *approved* is false, but it might due to application withdrawal, which doesn't mean he/she a unqualified candidate\n",
    "\n",
    "Target Variable\n",
    "- *loanStatus* will be the first prioritised target value\n",
    "\n",
    "Question:\n",
    "- What is the relationship of *loanAmount* and *originallyScheduledPaymentAmount*?\n"
   ]
  },
  {
   "attachments": {},
   "cell_type": "markdown",
   "metadata": {},
   "source": [
    "### Preprocess Target Variable - *loanStatus*"
   ]
  },
  {
   "cell_type": "code",
   "execution_count": 54,
   "metadata": {},
   "outputs": [
    {
     "name": "stdout",
     "output_type": "stream",
     "text": [
      "loanStatus\n",
      "Withdrawn Application          450984\n",
      "Rejected                        85070\n",
      "Paid Off Loan                   11427\n",
      "External Collection             11334\n",
      "New Loan                         8112\n",
      "Internal Collection              5567\n",
      "Returned Item                    1182\n",
      "CSR Voided New Loan              1026\n",
      "Settlement Paid Off               708\n",
      "Credit Return Void                704\n",
      "Customer Voided New Loan          504\n",
      "Settled Bankruptcy                326\n",
      "Pending Paid Off                  169\n",
      "Charged Off Paid Off              160\n",
      "Pending Application Fee             5\n",
      "Pending Rescind                     4\n",
      "Pending Application                 4\n",
      "Voided New Loan                     2\n",
      "Charged Off                         1\n",
      "Customver Voided New Loan           1\n",
      "Settlement Pending Paid Off         1\n",
      "Name: count, dtype: int64\n"
     ]
    }
   ],
   "source": [
    "# Count every unique values in column loanStatus\n",
    "print(loandf[\"loanStatus\"].value_counts())"
   ]
  },
  {
   "attachments": {},
   "cell_type": "markdown",
   "metadata": {},
   "source": [
    "We can see that there are many classes to be predicted. We will study and remove the unwanted classes.\n",
    "\n",
    "1. We will remove \"Withdrawn Application\" because these applications are not yet classified thus it is meaningless.\n",
    "\n",
    "2. We will remove small classes that frequency has lower than 100.\n",
    "\n",
    "3. We will combine \"External Collection\" and \"Internal Collection\" as a single value, \"Debt Collection\"."
   ]
  },
  {
   "attachments": {},
   "cell_type": "markdown",
   "metadata": {},
   "source": [
    "### Remove unwanted columns  \n",
    "Columns to be dropped: \n",
    "- *originatedDate*\n",
    "- *isFunded*\n"
   ]
  },
  {
   "cell_type": "code",
   "execution_count": null,
   "metadata": {},
   "outputs": [],
   "source": [
    "# Drop originatedDate and isFunded columns\n",
    "loandf.drop([\"originatedDate\", \"isFunded\"], axis=1, inplace=True)"
   ]
  },
  {
   "attachments": {},
   "cell_type": "markdown",
   "metadata": {},
   "source": [
    "### Impute missing value\n",
    "- nPaidOff: Impute value '0' if missing\n",
    "- "
   ]
  },
  {
   "cell_type": "code",
   "execution_count": 44,
   "metadata": {},
   "outputs": [
    {
     "name": "stdout",
     "output_type": "stream",
     "text": [
      "\n",
      "------------Missing Values-----------------\n",
      "loanId                                 256\n",
      "anon_ssn                                 0\n",
      "payFrequency                          1273\n",
      "apr                                   3922\n",
      "applicationDate                          0\n",
      "originated                               0\n",
      "originatedDate                      531638\n",
      "nPaidOff                                24\n",
      "approved                                 0\n",
      "isFunded                                 0\n",
      "loanStatus                             391\n",
      "loanAmount                            2250\n",
      "originallyScheduledPaymentAmount         0\n",
      "state                                  132\n",
      "leadType                                 0\n",
      "leadCost                                 0\n",
      "fpStatus                            525959\n",
      "clarityFraudId                      219989\n",
      "hasCF                                    0\n",
      "dtype: int64\n"
     ]
    }
   ],
   "source": [
    "# Count missing values for each column\n",
    "print(\"\\n------------Missing Values-----------------\")\n",
    "print(loandf.isnull().sum())"
   ]
  },
  {
   "cell_type": "code",
   "execution_count": null,
   "metadata": {},
   "outputs": [],
   "source": [
    "# Address missing values in column nPaidOff\n",
    "# We impute integer -1 because all records of NA in nPaidOff had been approved for loan\n",
    "loandf[\"nPaidOff\"].replace(\"NA\", -1, inplace=True) # Replace string value \"NA\" with 0\n",
    "loandf[\"nPaidOff\"].fillna(-1, inplace=True) # Replace null value with 0"
   ]
  },
  {
   "attachments": {},
   "cell_type": "markdown",
   "metadata": {},
   "source": [
    "### Remove unwanted rows"
   ]
  },
  {
   "cell_type": "code",
   "execution_count": null,
   "metadata": {},
   "outputs": [],
   "source": [
    "# Remove rows with loanAmount is N/A"
   ]
  },
  {
   "attachments": {},
   "cell_type": "markdown",
   "metadata": {},
   "source": [
    "## Preprocess paymentdf / payment.csv"
   ]
  },
  {
   "attachments": {},
   "cell_type": "markdown",
   "metadata": {},
   "source": [
    "## Preprocess claritydf / clarity_underwriting_variables.csv"
   ]
  },
  {
   "attachments": {},
   "cell_type": "markdown",
   "metadata": {},
   "source": [
    "# Data Modeling"
   ]
  },
  {
   "attachments": {},
   "cell_type": "markdown",
   "metadata": {},
   "source": []
  },
  {
   "attachments": {},
   "cell_type": "markdown",
   "metadata": {},
   "source": [
    "# Model Evaluation"
   ]
  },
  {
   "attachments": {},
   "cell_type": "markdown",
   "metadata": {},
   "source": [
    "We will use \"False Negative\" as our metrics to evaluate our models, because we want to reduce financial impact of lending money to borrower who will default the loan."
   ]
  },
  {
   "attachments": {},
   "cell_type": "markdown",
   "metadata": {},
   "source": []
  }
 ],
 "metadata": {
  "kernelspec": {
   "display_name": "Python 3",
   "language": "python",
   "name": "python3"
  },
  "language_info": {
   "codemirror_mode": {
    "name": "ipython",
    "version": 3
   },
   "file_extension": ".py",
   "mimetype": "text/x-python",
   "name": "python",
   "nbconvert_exporter": "python",
   "pygments_lexer": "ipython3",
   "version": "3.11.3"
  },
  "orig_nbformat": 4
 },
 "nbformat": 4,
 "nbformat_minor": 2
}
